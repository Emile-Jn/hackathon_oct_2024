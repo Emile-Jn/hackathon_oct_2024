{
 "cells": [
  {
   "cell_type": "markdown",
   "id": "7a5808df077715eb",
   "metadata": {},
   "source": [
    "# AIM Hackathon: Sample code\n",
    "19.10.2024"
   ]
  },
  {
   "cell_type": "code",
   "execution_count": 46,
   "id": "8bec73e3a0cd2571",
   "metadata": {
    "ExecuteTime": {
     "end_time": "2024-10-18T08:42:29.779608Z",
     "start_time": "2024-10-18T08:42:26.029795Z"
    }
   },
   "outputs": [],
   "source": [
    "import os\n",
    "import requests\n",
    "import PyPDF2\n",
    "import tiktoken\n",
    "import pandas as pd\n",
    "import pickle\n",
    "from dotenv import load_dotenv\n",
    "\n",
    "from langchain_openai import ChatOpenAI\n",
    "from langchain_core.documents import Document\n",
    "from langchain.text_splitter import RecursiveCharacterTextSplitter\n",
    "from langchain_openai.embeddings.base import OpenAIEmbeddings\n",
    "\n",
    "from langchain.prompts import PromptTemplate\n",
    "from langchain.chains import RetrievalQA\n",
    "from langchain.vectorstores import FAISS\n",
    "\n",
    "# load openai key\n",
    "if not load_dotenv():\n",
    "    raise Exception('Error loading .env file. Make sure to place a valid OPEN_AI_KEY in the .env file.')"
   ]
  },
  {
   "cell_type": "code",
   "execution_count": 6,
   "id": "8ca3544d9e60a0cf",
   "metadata": {
    "ExecuteTime": {
     "end_time": "2024-10-18T08:45:34.765879Z",
     "start_time": "2024-10-18T08:45:34.751838Z"
    }
   },
   "outputs": [],
   "source": [
    "REPORTS_SAVE_PATH = 'data/sample_reports'\n",
    "DB_PATH = \"data/db/sample.db\"\n",
    "\n",
    "# See https://openai.com/api/pricing/\n",
    "MODEL = \"gpt-4o\""
   ]
  },
  {
   "cell_type": "code",
   "execution_count": 7,
   "id": "884c8d201075524d",
   "metadata": {
    "ExecuteTime": {
     "end_time": "2024-10-18T08:45:35.123394Z",
     "start_time": "2024-10-18T08:45:35.064870Z"
    }
   },
   "outputs": [
    {
     "data": {
      "text/html": [
       "<div>\n",
       "<style scoped>\n",
       "    .dataframe tbody tr th:only-of-type {\n",
       "        vertical-align: middle;\n",
       "    }\n",
       "\n",
       "    .dataframe tbody tr th {\n",
       "        vertical-align: top;\n",
       "    }\n",
       "\n",
       "    .dataframe thead th {\n",
       "        text-align: right;\n",
       "    }\n",
       "</style>\n",
       "<table border=\"1\" class=\"dataframe\">\n",
       "  <thead>\n",
       "    <tr style=\"text-align: right;\">\n",
       "      <th></th>\n",
       "      <th>company_name</th>\n",
       "      <th>year</th>\n",
       "      <th>dataset</th>\n",
       "      <th>pdf_url</th>\n",
       "    </tr>\n",
       "  </thead>\n",
       "  <tbody>\n",
       "    <tr>\n",
       "      <th>0</th>\n",
       "      <td>Walmart</td>\n",
       "      <td>2023</td>\n",
       "      <td>handcrafted</td>\n",
       "      <td>https://corporate.walmart.com/content/dam/corp...</td>\n",
       "    </tr>\n",
       "    <tr>\n",
       "      <th>1</th>\n",
       "      <td>Walmart</td>\n",
       "      <td>2021</td>\n",
       "      <td>handcrafted</td>\n",
       "      <td>https://corporate.walmart.com/content/dam/corp...</td>\n",
       "    </tr>\n",
       "    <tr>\n",
       "      <th>2</th>\n",
       "      <td>Walmart</td>\n",
       "      <td>2019</td>\n",
       "      <td>handcrafted</td>\n",
       "      <td>https://corporate.walmart.com/content/dam/corp...</td>\n",
       "    </tr>\n",
       "    <tr>\n",
       "      <th>3</th>\n",
       "      <td>Amazon</td>\n",
       "      <td>2023</td>\n",
       "      <td>handcrafted</td>\n",
       "      <td>https://sustainability.aboutamazon.com/content...</td>\n",
       "    </tr>\n",
       "    <tr>\n",
       "      <th>4</th>\n",
       "      <td>Amazon</td>\n",
       "      <td>2021</td>\n",
       "      <td>handcrafted</td>\n",
       "      <td>https://sustainability.aboutamazon.com/content...</td>\n",
       "    </tr>\n",
       "    <tr>\n",
       "      <th>...</th>\n",
       "      <td>...</td>\n",
       "      <td>...</td>\n",
       "      <td>...</td>\n",
       "      <td>...</td>\n",
       "    </tr>\n",
       "    <tr>\n",
       "      <th>141</th>\n",
       "      <td>tarkett</td>\n",
       "      <td>2020</td>\n",
       "      <td>scraped</td>\n",
       "      <td>https://www.tarkett.com/sites/default/files/20...</td>\n",
       "    </tr>\n",
       "    <tr>\n",
       "      <th>142</th>\n",
       "      <td>trivium-packaging</td>\n",
       "      <td>2021</td>\n",
       "      <td>scraped</td>\n",
       "      <td>https://www.triviumpackaging.com/media/13fl4q3...</td>\n",
       "    </tr>\n",
       "    <tr>\n",
       "      <th>143</th>\n",
       "      <td>trivium-packaging</td>\n",
       "      <td>2020</td>\n",
       "      <td>scraped</td>\n",
       "      <td>https://triviumpackaging.com/sustainability/re...</td>\n",
       "    </tr>\n",
       "    <tr>\n",
       "      <th>144</th>\n",
       "      <td>trust</td>\n",
       "      <td>2023</td>\n",
       "      <td>scraped</td>\n",
       "      <td>https://dezlwerqy1h00.cloudfront.net/images/co...</td>\n",
       "    </tr>\n",
       "    <tr>\n",
       "      <th>145</th>\n",
       "      <td>trust</td>\n",
       "      <td>2021</td>\n",
       "      <td>scraped</td>\n",
       "      <td>https://dezlwerqy1h00.cloudfront.net/images/co...</td>\n",
       "    </tr>\n",
       "  </tbody>\n",
       "</table>\n",
       "<p>146 rows × 4 columns</p>\n",
       "</div>"
      ],
      "text/plain": [
       "          company_name  year      dataset  \\\n",
       "0              Walmart  2023  handcrafted   \n",
       "1              Walmart  2021  handcrafted   \n",
       "2              Walmart  2019  handcrafted   \n",
       "3               Amazon  2023  handcrafted   \n",
       "4               Amazon  2021  handcrafted   \n",
       "..                 ...   ...          ...   \n",
       "141            tarkett  2020      scraped   \n",
       "142  trivium-packaging  2021      scraped   \n",
       "143  trivium-packaging  2020      scraped   \n",
       "144              trust  2023      scraped   \n",
       "145              trust  2021      scraped   \n",
       "\n",
       "                                               pdf_url  \n",
       "0    https://corporate.walmart.com/content/dam/corp...  \n",
       "1    https://corporate.walmart.com/content/dam/corp...  \n",
       "2    https://corporate.walmart.com/content/dam/corp...  \n",
       "3    https://sustainability.aboutamazon.com/content...  \n",
       "4    https://sustainability.aboutamazon.com/content...  \n",
       "..                                                 ...  \n",
       "141  https://www.tarkett.com/sites/default/files/20...  \n",
       "142  https://www.triviumpackaging.com/media/13fl4q3...  \n",
       "143  https://triviumpackaging.com/sustainability/re...  \n",
       "144  https://dezlwerqy1h00.cloudfront.net/images/co...  \n",
       "145  https://dezlwerqy1h00.cloudfront.net/images/co...  \n",
       "\n",
       "[146 rows x 4 columns]"
      ]
     },
     "execution_count": 7,
     "metadata": {},
     "output_type": "execute_result"
    }
   ],
   "source": [
    "df = pd.read_json('data/reports.json')\n",
    "df"
   ]
  },
  {
   "cell_type": "markdown",
   "id": "691b3873627faac",
   "metadata": {},
   "source": [
    "## Download some reports"
   ]
  },
  {
   "cell_type": "code",
   "execution_count": 8,
   "id": "7016c71d2e6c157c",
   "metadata": {
    "ExecuteTime": {
     "end_time": "2024-10-18T08:45:36.892663Z",
     "start_time": "2024-10-18T08:45:36.882663Z"
    }
   },
   "outputs": [],
   "source": [
    "# EXAMPLE: select apple reports\n",
    "df_sample = df[df['dataset'] == 'handcrafted']"
   ]
  },
  {
   "cell_type": "code",
   "execution_count": 9,
   "id": "77d6a784",
   "metadata": {},
   "outputs": [
    {
     "data": {
      "text/plain": [
       "23"
      ]
     },
     "execution_count": 9,
     "metadata": {},
     "output_type": "execute_result"
    }
   ],
   "source": [
    "len(df_sample)"
   ]
  },
  {
   "cell_type": "code",
   "execution_count": 10,
   "id": "5f11fde1d1812112",
   "metadata": {
    "ExecuteTime": {
     "end_time": "2024-10-18T08:45:37.365944Z",
     "start_time": "2024-10-18T08:45:37.344942Z"
    }
   },
   "outputs": [],
   "source": [
    "# download Apple reports to save_dir\n",
    "def download_files(df: pd.DataFrame, save_dir: str):\n",
    "    os.makedirs(save_dir, exist_ok=True)\n",
    "    for url in df['pdf_url']:\n",
    "        pdf_filename = os.path.basename(url)\n",
    "        response = requests.get(url)\n",
    "        with open(os.path.join(save_dir, pdf_filename.split('?')[0]), 'wb') as file:\n",
    "            file.write(response.content)\n",
    "    print(f\"Success.\")"
   ]
  },
  {
   "cell_type": "code",
   "execution_count": 11,
   "id": "cb4a2407fec641",
   "metadata": {},
   "outputs": [
    {
     "name": "stdout",
     "output_type": "stream",
     "text": [
      "Success.\n"
     ]
    }
   ],
   "source": [
    "download_files(df_sample, REPORTS_SAVE_PATH)"
   ]
  },
  {
   "cell_type": "markdown",
   "id": "f93afeb4f8e422c6",
   "metadata": {},
   "source": [
    "## Create simple vector database"
   ]
  },
  {
   "cell_type": "code",
   "execution_count": 139,
   "id": "42eeec6e365fd353",
   "metadata": {
    "ExecuteTime": {
     "end_time": "2024-10-18T08:45:58.246571Z",
     "start_time": "2024-10-18T08:45:58.230622Z"
    }
   },
   "outputs": [],
   "source": [
    "docs_pages = {}\n",
    "\n",
    "# Load PDFs\n",
    "def get_documents_from_path(files_path: str) -> [Document]:\n",
    "    documents = []\n",
    "    \n",
    "    for file in os.listdir(files_path)[:1]:\n",
    "        _, file_extension = os.path.splitext(file)\n",
    "        text = \"\"\n",
    "        texts = []\n",
    "        \n",
    "        if file_extension == \".pdf\":\n",
    "            try:\n",
    "                with open(os.path.join(files_path, file), 'rb') as f:\n",
    "                    reader = PyPDF2.PdfReader(f, strict=False)\n",
    "                    for page in reader.pages:\n",
    "                        text += page.extract_text() + \"\\n\"\n",
    "                        texts.append(page.extract_text())\n",
    "                    \n",
    "                if text:\n",
    "                    documents.append(Document(page_content=text, metadata={\"source\": file}))\n",
    "                    docs_pages[file] = texts.copy()\n",
    "                else:\n",
    "                    print(f\"WARNING: No text extracted from {file}\")\n",
    "            except Exception as e:\n",
    "                print(e)\n",
    "        else:\n",
    "            # TODO: can add support for other file types here\n",
    "            raise Exception(f\"Unsupported file extension: {file_extension}\")\n",
    "    \n",
    "    return documents"
   ]
  },
  {
   "cell_type": "code",
   "execution_count": 140,
   "id": "c0705d007aae0741",
   "metadata": {
    "ExecuteTime": {
     "end_time": "2024-10-18T08:46:27.182748Z",
     "start_time": "2024-10-18T08:45:58.503064Z"
    }
   },
   "outputs": [],
   "source": [
    "documents = get_documents_from_path(REPORTS_SAVE_PATH)"
   ]
  },
  {
   "cell_type": "code",
   "execution_count": 141,
   "id": "ac726fdf",
   "metadata": {},
   "outputs": [
    {
     "data": {
      "text/plain": [
       "43"
      ]
     },
     "execution_count": 141,
     "metadata": {},
     "output_type": "execute_result"
    }
   ],
   "source": [
    "len(docs_pages[\"fy2023-walmart-esg-highlights.pdf\"])"
   ]
  },
  {
   "cell_type": "code",
   "execution_count": 142,
   "id": "c936d498",
   "metadata": {},
   "outputs": [
    {
     "data": {
      "text/plain": [
       "['Environmental,  \\nSocial, and  \\nGovernance  \\nHighlights\\nFY2023\\n',\n",
       " 'FY2023  \\nESG Highlights\\nContents\\nESG REPORTING SOURCES\\nESG Issue Briefs\\nESG Reporting DataINTRODUCTION\\n4 Leadership Letters\\n6 Awards & Recognition\\n7 Our Company\\n8 Our Approach to ESG\\nOPPORTUNITY\\n11 Opportunity Highlights\\n12  Human Capital: Good Jobs  \\n& Advancement for Associates\\n13 Human Capital Spotlight\\n14 Equity & Inclusion at Walmart & Beyond\\n15 Supplier Opportunity SUSTAINABILITY\\n17 Sustainability Highlights\\n18 Product Supply Chain Sustainability\\n19 Climate Change\\n20 Climate Change Spotlight\\n21  Regeneration of Natural Resources:  \\nForests, Land, Oceans\\n22 Waste: Circular Economy\\n23 People in Supply Chains\\nCOMMUNITY\\n25 Community Highlights\\n26 Serving Communities\\n27 Safer, Healthier Food & Other Products\\n28 Disaster Preparedness & Response\\n29  Disaster Preparedness & Response  \\nSpotlightETHICS & INTEGRITY\\n31 Ethics & Integrity Highlights\\n32 Ethics & Compliance\\n33 Corporate Governance\\n34 Engagement in Public Policy \\n35  Digital Citizenship: Ethical Use of  \\nData & Responsible Use of Technology \\n36 Digital Citizenship Spotlight\\n37 Human Rights \\nAPPENDIX\\n39 About Our Reporting\\n40 Forward-Looking Statements\\n41 Endnotes',\n",
       " 'Introduction\\nFY2023  \\nESG Highlights\\n',\n",
       " 'It was Sam Walton’s purpose to help people live \\nbetter lives. He wanted to help them save money \\nso they could invest in their families and their \\ncommunities. He wanted to help people build \\nsomething meaningful and worthwhile and to live a \\nbetter life. He wanted to leave things better than he’d \\nfound them. That’s the legacy he left our company, \\nand we remain committed to being a force for good \\nin the communities we serve, all over the world. \\nFor Walmart, this means actively addressing the \\nenvironmental and societal issues most relevant to \\nour business and stakeholders, and we win when our \\ncustomers, associates, suppliers, communities, and \\nplanet are better off because of Walmart.\\nIn our 61 years, we’ve shown that we’re capable of \\nbig things. We’ve embraced change and innovation \\nwhile staying true to our roots, and we’ve grown \\nand expanded without forgetting our purpose. \\nWe’re a people-led, tech-powered omni-channel \\nretailer dedicated to helping people save money \\nand live better, and we’re still built upon our original \\nfoundation of timeless values. \\nThroughout our ESG Issue Briefs  and these ESG \\nHighlights, you’ll see the ways our commitments build \\non this foundation. We’ve focused on four themes \\nthat guide our action: Opportunity, Sustainability, \\nCommunity, and Ethics & Integrity. And at Walmart, we’re doing more than simply managing risks in these \\nareas. Managing risk isn’t enough. We have to think \\ndifferently, and we have to do more. We have adopted \\na mindset that prioritizes outcomes for business and \\nsociety — and a regenerative ambition. I’m proud \\nof the ways our team is bringing these principles to \\nlife across our business. We’re giving back, and we’re \\nfollowing Sam’s example: we’re leaving things better \\nthan we found them.\\nAt the same time, we’re mindful that none of this \\nwould be possible without our associates taking \\naction and bringing these goals to life. We’re grateful \\nfor our associates’ hard work and positive mindsets, \\ntheir flexibility and their resilience, and it’s important \\nto Walmart that we create opportunities and invest \\nin the people who have invested in our mission. \\nWe want to build careers, not just jobs. In the U.S. \\nalone, about 75% of salaried store, club, and supply \\nchain management started their careers as hourly \\nassociates. And Live Better U now allows associates \\nto choose from more than 70 programs in areas like \\nbusiness management and data analytics. Walmart \\npays for 100% of the tuition and books. These are just \\na couple of examples of our commitment to helping \\nour associates live better lives, too.We’re also making progress toward our environmental \\ngoals around the world. In partnership with our \\nsuppliers, we’ve made supply chains healthier by \\nembedding regenerative practices and reducing \\ncarbon emissions, and we’re especially proud that \\nWalmart is now three-quarters of the way toward \\nreaching our Project Gigaton goal of reducing or \\navoiding one billion metric tons of greenhouse gases \\nby 2030. \\nTogether, we’re working every day to help people \\nlive better lives, both locally and globally. That’s \\nthe promise we make to our stakeholders. We’re \\ncommitted to this mission, and we believe that our \\nsuccess depends upon keeping this promise. And I \\nbelieve we can do it. We are doing it. And by working \\ntogether there’s no limit to what we can accomplish.\\nDoug McMillon \\nPresident and CEO \\nWalmart Inc.A Message from our Chief Executive OfficerLEADERSHIP LETTERS\\nFY2023  \\nESG Highlights 4 Opportunity Sustainability Community Ethics & Integrity\\n Introduction',\n",
       " 'A Message from our Chief Sustainability Officer\\nWalmart has grown from humble roots with the \\nenduring purpose of helping people save money and \\nlive better. \\nAs a people-led, tech-powered omni-channel retailer, \\nwe want to help people live better not only through \\nour customer proposition but in the way we deliver it, \\nby: \\n• Creating opportunity: Being an employer of \\nchoice, where all associates feel they belong, can \\ngain skills, and can advance through career paths \\nranging from retail management to health care to \\ntech. \\n• Enhancing sustainability:  Operating efficiently, \\neffectively, and sustainably in service of the \\ncustomer and communities; building a resilient \\nproduct supply chain that helps create prosperity \\nfor people while sustaining and restoring our \\nplanet. \\n• Strengthening community:  Providing access \\nto everyday goods and services as well as good \\njobs, tax revenue, and philanthropic support for \\ncommunity needs.\\n• Upholding the highest standards of ethics and \\nintegrity:  Being the most trusted retailer so our \\nstakeholders choose us every time. \\nOur environmental, social, and governance efforts \\ncenter on the themes of opportunity, sustainability, \\ncommunity, and ethics and integrity. Our efforts \\ncreate shareholder value by creating value for our \\nstakeholders — our customers, associates, suppliers, business partners, community partners, and even the \\nplanet (because as a retailer, our commodity sourcing, \\nfacilities, and customer communities depend on \\nhealthy ecosystems and climate). We believe that \\nwhen Walmart creates value for stakeholders, \\nwe strengthen our business and deliver value to \\nour shareholders, which allows us to invest in the \\ncapabilities to serve our stakeholders even better…\\npropelling a virtuous cycle of shared value. We aim to \\nbecome a regenerative company — one that not only \\nsustains but strengthens the people and the world \\naround us. \\nRecent examples illustrate our approach: \\nInvesting in our associates:  We have raised minimum \\nstarting wages over 90% and average hourly wages \\n54% since 2015 through improvements in jobs and \\ncareer paths, including changes based on direct \\nengagement, dialogue, and feedback from associates. \\nWalmart associates have also helped shape and \\nintroduce additional benefits, such as extended \\nparental leave, adoption benefits, and expanded vision \\ncare benefits. Our on-the-job training and programs \\nsuch as Walmart Academy provide opportunities for \\nassociates to grow their skills and careers; indeed \\napproximately 88% of Walmart U.S. store roles above \\nentry level were filled internally in FY2023. Such \\ninvestments help us to attract, develop, and retain the \\ntop talent needed to continue bringing our purpose \\nto life.  Rewiring our business for a low-carbon future: \\nWe are committed to achieving our science-based \\ntargets; last year we achieved a cumulative 23% \\nreduction in GHG emissions from our own operations \\nrelative to our 2015 baseline year and have progressed \\ntoward our goal of being powered by 100% renewable \\nenergy. We continue to take meaningful action to \\ndecarbonize product value chains; through Project \\nGigaton, Walmart suppliers report having reduced \\nor avoided over 750 million metric tons of emissions \\nsince 2017. As electric vehicle (EV) ownership grows, \\nwe are building our own EV fast-charging network \\nat thousands of Walmart and Sam’s Club locations \\ncoast to coast to create a convenient, reliable, \\nand affordable charging option for customers. We \\nbelieve our leadership on energy and emissions in the \\ncoming decade can create value for our business and \\nstakeholders. \\nWe invite you to read our FY2023 ESG Highlights and \\nthe accompanying ESG Issue Briefs  to learn more \\nabout how we continue to strengthen our business by \\ncreating value for our stakeholders. \\nKathleen McLaughlin \\nEVP and Chief Sustainability Officer \\nWalmart Inc.\\n LEADERSHIP LETTERSFY2023  \\nESG Highlights 5 Opportunity Sustainability Community Ethics & Integrity\\n Introduction',\n",
       " 'Awards & Recognition\\nFortune Change \\nthe World One of America’s \\nTop Corporations for \\nWomen’s Business \\nEnterprises — from \\nthe Women’s Business \\nEnterprise National \\nCouncil\\n100%  on the 2022 Human \\nRights Campaign’s \\nCorporate Equality Index\\n2022 Disability  \\nEquality Index\\nFor seventh consecutive year For eighth consecutive year\\nListed on the  \\n2023 Bloomberg  \\nGender Equality \\nIndex2023 DiversityInc Top 50 \\nCompanies for Diversity  \\nretailer in the  \\nEPA’s Green Power  \\nPartnership rankingsin National Truck Safety by the \\nAmerican Trucking Association100% #1#1#3#17\\n100%FY2023  \\nESG Highlights 6 Opportunity Sustainability Community Ethics & Integrity\\n Introduction\\nGreat Place to Work Certified  \\nWalmart Inc. and Sam’s Club \\n(2023) ',\n",
       " 'Our Company\\nWalmart is a people-led, tech-powered omni-channel retailer dedicated \\nto helping people save money and live better — anytime and anywhere \\n— by providing the opportunity to shop in both retail stores and through \\neCommerce, and to access our other service offerings. Through \\ninnovation, we strive to continuously improve a customer-centric \\nexperience that seamlessly integrates our eCommerce and retail stores in \\nan omni-channel offering that saves time for our customers.\\nOur strategy is to bring our purpose to life, which means making every day \\neasier for busy families, operating with discipline, sharpening our culture, \\nbecoming more digital, and making trust a competitive advantage. We are \\ncommitted to doing this in a way that is regenerative — helping to renew \\npeople and the planet through our business.• Customers: Convenient access to quality, \\naffordable products and services\\n• Associates:  Purpose-driven work; opportunity for \\ngood jobs and upward mobility\\n• Shareholders:  Strong long-term returns through \\nfinancial and ESG leadership\\n• Suppliers:  Access to customers and support for \\nsupplier development and growth\\n• Business Partners : Access to and understanding \\nof engaged customers for our sellers, advertisers, \\nand ecosystem partners• Communities : Resources to build stronger, more \\ninclusive communities\\n• Planet:  Leadership on zero emissions, zero waste \\nand our regenerative approach to natureRespect for  \\nthe Individual \\nService to the \\nCustomer \\nStrive for  \\nExcellence \\nAct with  \\nIntegrityHOW WALMART CREATES VALUE FOR STAKEHOLDERS OUR VALUES\\nOmni-channel retailer \\nserving approximately \\n240 million customers \\nper week~2.1 million associates 10,500 stores and \\neCommerce websites \\nin 20 countries$611 billion in revenue OUR BUSINESS IN FY2023 \\nFY2023  \\nESG Highlights 7 Opportunity Sustainability Community Ethics & Integrity\\n Introduction',\n",
       " 'Creating Shared Value\\nManagement of ESG \\nLeadership of ESG issues starts with our CEO — with oversight from our \\nBoard of Directors — and cascades across our enterprise. \\nThe Board’s Nominating & Governance Committee (NGC) exercises \\noversight over Walmart’s overall ESG strategy and certain priority \\nissues, while other Board committees retain oversight over specific ESG \\nissues. \\nWalmart’s Chief Sustainability Officer (CSO) helps define the ESG \\nagenda and provides dedicated management and oversight of Walmart’s \\nglobal ESG initiatives and goals. The CSO provides updates to the \\nWalmart executive leadership team and NGC. \\nWe have additional governance bodies at the management level, \\nincluding the ESG Steering Committee and the ESG Disclosure \\nCommittee that help guide ESG strategy and disclosure.\\nRead more:  ESG Oversight and Management  \\nand Corporate Governance ESG BriefOUR APPROACH TO ESG\\nShared value — addressing societal issues in ways that create value for \\nour business and stakeholders — lies at the heart of Walmart’s enterprise \\nstrategy and our approach to ESG issues. \\nWe believe we maximize long-term value for shareholders by serving our \\nstakeholders: our customers, associates, suppliers, business partners, \\ncommunities, and even the planet.\\nAddressing such societal needs builds the value of our business and as \\nbusiness strengthens society, society strengthens business. \\nWe aspire to become a regenerative company — helping to renew people \\nand the planet through our business. Each of our ESG priority issue areas \\noffers a discrete shared value proposition: an opportunity to meet a \\nsocietal need through our business. Doing so aligns our business objectives \\nwith societal objectives and increases our ability to create value for the \\nlong term.\\nRead more: Our ESG PrioritiesFY2023  \\nESG Highlights 8 Opportunity Sustainability Community Ethics & Integrity\\n Introduction',\n",
       " 'We prioritize the ESG issues that offer the greatest potential for Walmart \\nto create shared value; these are issues that rank high in relevance to our \\nbusiness and stakeholders as well as Walmart’s ability to make a difference.\\nFor each priority ESG issue, our disclosures aim to:\\n• Articulate the relevance of the issue for societyand Walmart’s business\\n• Reflect an understanding of stakeholder expectations\\n• Share our aspirations, goals, and strategies to create shared value \\n• Describe our progress, opportunities, and challenges \\nRead more : Our ESG Priorities\\nStakeholder Engagement\\nOur ability to create shared value depends \\non direct and frequent engagement with \\nour customers, associates, and community \\nleaders, as well as the people who \\nsupply our products, hold our stock, and \\nevaluate our performance. Stakeholder \\nperspectives and feedback help improve \\nthe relevance and effectiveness of the \\nproducts and services we offer and the \\ninitiatives we support. \\nDay to day, we engage with customers, \\nfellow associates, suppliers, members of \\nthe communities where we operate, and \\nshareholders. \\nAdditionally, our 2021 ESG priority \\nassessment included extensive outreach \\nto stakeholders, including customers, \\nassociates, shareholders, suppliers, and \\nNGOs, to understand their perspectives \\non which issues Walmart should prioritize. \\nRead more:  Stakeholder Engagement\\nOpportunity  \\n• Good jobs and advancement for associates \\n• Equity and inclusion at Walmart and beyond \\n• Growth for suppliers, sellers, and local economies \\n  \\nSustainability  \\n• Climate and renewable energy leadership \\n• Zero waste in operations, products, and packaging \\n• Regeneration of natural resources: forests, land, and oceans \\n \\nCommunity  \\n• Serving communities\\n• Access to safer, healthier food, products, and services\\n• Disaster preparedness and response\\n \\nEthics & Integrity \\n• Highest ethical and compliance standards\\n• Strong corporate governance\\n• Engagement in public policy\\n• Digital citizenship \\n• Respect for human rightsOur ESG PrioritiesOUR APPROACH TO ESGFY2023  \\nESG Highlights 9 Opportunity Sustainability Community Ethics & Integrity\\n Introduction',\n",
       " 'Opportunity\\nRetail can be a powerful engine for inclusive economic \\nopportunity. We aim to advance equity and opportunity \\nthroughout Walmart, our product supply chain, and \\nlocal communities to fulfill our customer mission, \\nstrengthen our business, and help people build a better \\nlife for themselves and their families.\\nRELATED ESG ISSUE BRIEFS:\\nHuman Capital: Good Jobs &  \\nAdvancement for Associates\\nEquity & Inclusion at  \\nWalmart & Beyond\\nSupplier Opportunity\\nFY2023  \\nESG Highlights\\n',\n",
       " 'Opportunity Highlights\\n$21.75\\nU.S. associate \\naverage total hourly \\ncompensation1>180,000>34,000\\nASSOCIATES\\nenrolled in  Live Better U\\n>$13 cumulative total \\npurchases supporting \\nAmerican jobs  \\n(2021 through FY2023)BILLION\\nBILLION\\n28%\\nof U.S. officers are \\npeople of color68%\\nfull-time U.S. \\nhourly associates2 $47\\nU.S. ASSOCIATES3 \\nreceived promotions;  \\n88% of roles4 above  \\nentry level filled internally sourced from  ~2,400 \\ndiverse suppliers5 \\n to U.S. businessesFY2023  \\nESG Highlights 11 Introduction Sustainability Community Ethics & Integrity\\n Opportunity\\n37%\\nof U.S. officers \\nare women',\n",
       " 'Human Capital: Good Jobs & Advancement for Associates\\nOur aspiration: making retail a place of inclusive and equitable opportunity \\nwhere people can gain skills and experience to advance their careers\\nAssociate Listening and Feedback\\nAs Walmart associates, engaging and listening \\nto each other has been core to our culture \\nsince our founding more than 60 years ago. \\nAs the world becomes more digital, it creates \\nadditional opportunities to solicit feedback \\nfrom and respond to each other. In FY2023, \\nWalmart U.S. introduced the Engagement Pulse \\nSurvey, a monthly survey administered to over \\none million Walmart U.S. frontline associates \\nvia the Me@Walmart app that helps leaders \\nimprove engagement, retention, and the \\noverall associate experience. Additionally, our \\nAssociate Engagement Survey now provides the \\nopportunity to submit open-text feedback, and more than 500,000 associates did so during our \\n2022 survey. U.S.-based associates can also utilize \\nthe MyFeedback Portal, which was designed and \\nlaunched as a digital, intuitive, self-service site. \\nHundreds of associates utilize this channel each \\nmonth. Feedback results are provided to leaders \\nto create action plans and inform enhancements \\nto our overall associate value proposition and \\nways of working. In FY2023, for example, \\nbenefits, training, and education enhancements \\nwere made because of associate feedback. \\n• Make Walmart a place for everyone where \\nassociates know they are listened to, valued, \\nengaged, and supported\\n• Prioritize the financial, physical, and \\nemotional well-being of associates \\n• Provide opportunities for all associates to \\nlearn and grow in their careers• Drive a digital transformation that improves \\nthe associate experience\\n• Strengthen the U.S. frontline workforce \\ndevelopment system in retail and related \\nsectorsSTRATEGY\\nFY2023 HIGHLIGHTS\\n• Continued investment in \\nwages (+54% in the average \\nhourly wage since 2015) and \\nbenefits, increasing average \\ntotal compensation to \\n>$21.75/hour, and enhancing \\nparental leave and family-\\nbuilding benefits • Enhanced engagement \\ncapabilities, including through \\ndigital Engagement Pulse \\nSurveys and the MyFeedback \\nportal• Connected U.S. frontline \\nassociates to career paths, \\nwith 88%6 of roles above \\nentry level filled internally and \\n>180,000 promotions7 \\nSee our Human Capital ESG brief  for more information AVERAGE HOURLY WAGE AND TOTAL COMPENSATION (END OF FY2023)8 \\nASSOCIATE  \\nPOPULATIONAVG STARTING \\nWAGE9 AVG HOURLY  \\nWAGEAVG TOTAL HOURLY \\nCOMPENSATION10 \\nWalmart U.S. segment11 >$15.25 >$17.00 >$21.50\\nSam’s Club U.S. segment12 >$16.25 >$17.50 >$22.25\\nU.S. supply chain associates (Walmart U.S. and Sam’s Club U.S.)13 >$23.25 >$25.50 >$33.50FY2023  \\nESG Highlights 12 Introduction Sustainability Community Ethics & Integrity\\n Opportunity',\n",
       " ' All of my dreams were coming true.  \\nI was ready for the next step of  \\nmy career.\\n— JARRYN ROBERTSON, PROJECT ANALYST“\\nJarryn Robertson joined Walmart in 2009 as a part-time cash \\noffice associate at Store 1196 in New Roads, Louisiana, before \\ntransferring to work in asset protection in a supercenter and \\nthen a distribution center. Prior to working at Walmart, she’d \\nwanted to get a college degree and had taken \\nclasses on and off after high school but never \\nfinished. Time, money, and a lack of direction \\nhad gotten in the way. In 2018 she heard \\nabout a new program Walmart was launching \\n— Live Better U. She took advantage of the \\nnew, exciting opportunity and enrolled at \\nBellevue University, ultimately graduating \\nwith a business degree in December 2021. \\nShortly after graduating, Jarryn learned about \\nthe Home Office Pathway Experience, a new \\nprogram designed to connect frontline associates who  \\nare recent or soon-to-be college graduates with Home \\nOffice roles. \\nOnce Jarryn was accepted into the Home Office Pathway \\nExperience program in early 2022, she worked hard to show her skills and determination through rotations with several \\nHome Office teams. Her hard work paid off: Jarryn was \\noffered — and accepted — a job as a project analyst on the \\nNon-Traditional Talent Pathways Team at the Home Office in \\nBentonville, Arkansas.\\n“When I received the job offer, I started \\nto cry,” she recalls. “All of my dreams were \\ncoming true. I was ready for the next step of \\nmy career.”\\nJarryn’s story is just one of the thousands of \\nstories of associates who have completed Live \\nBetter U programs, opening up new pathways \\nto career progression and promotion at \\nWalmart. The education and skills gained \\nthrough Live Better U have propelled many associates to \\ngrow their careers at Walmart. Career Growth Through Live Better U\\nLIVE BETTER U\\nHUMAN CAPITAL SPOTLIGHTFY2023  \\nESG Highlights 13 Introduction Sustainability Community Ethics & Integrity\\n Opportunity',\n",
       " '• Create a culture of belonging, where all \\nassociates feel accepted and valued for their \\nunique identities and skills\\n• Promote inclusion through our sourcing of \\nproducts, services, and goods not for resale; \\nmarketing; and business relationships• Advance equity and inclusion in \\nsociety through business initiatives and \\ncomplementary philanthropy\\nSee our Equity & Inclusion ESG brief  for more information • Diversified recruiting and talent pools, including our frontline hourly associate base and strategic \\npartnerships with HBCUs; people of color represent 41% of management (vs. 39% in FY2022) \\n• Worked with more than 200 diverse creators and brands in marketing and sourced more than $13 billion \\nfrom diverse suppliers\\n• Granted $58 million towards our $100 million Center for Racial Equity commitment to address disparities \\nin the U.S. criminal justice, education, finance, and health systems, with an additional $7 million \\ncontributed towards racial solidarity effortsEquity & Inclusion at Walmart & Beyond\\nOur aspiration: to advance equity and inclusion in our business, with our \\nsuppliers and business partners, and in the communities we serve\\nFY2023 HIGHLIGHTS\\nBelonging at Walmart\\nWalmart’s diversity, equity, and inclusion \\nefforts focus on creating a culture of \\nbelonging, where people can bring their \\nbest selves to work — and we can attract \\nand retain talent to serve our customer \\nwell. \\nOur efforts include removing barriers \\nto hiring and advancement; training and \\neducation; associate resource groups; and \\nrobust oversight and reporting. \\nThis year, we began seeking to measure a \\nsense of belonging through our Associate \\nEngagement Survey. We also hired \\nour first Chief Belonging Officer — an \\nevolution of the Chief Diversity Officer \\nrole — in early FY2024.STRATEGY\\nASSOCIATE  \\nPOPULATION WOMENPEOPLE  \\nOF COLOR\\nU.S. workforce 52% 49%\\nU.S. management 44% 41%\\nU.S. officers 37% 28%\\nU.S. total management \\npromotions earned40% 43%\\nU.S. hourly-to-hourly \\npromotions earned54% 50%SELECT U.S. REPRESENTATION DATA14 FY2023  \\nESG Highlights 14 Introduction Sustainability Community Ethics & Integrity\\n Opportunity',\n",
       " 'Our aspiration: we aim to create economic opportunities for our suppliers, \\nthe people they employ, and their communities\\nSTRATEGY\\nFY2023 HIGHLIGHTS\\n• Spent an incremental $47 billion on products supporting American jobs (2021 through  \\nend of FY2023)\\n• Sourced more than $13 billion from ~2,400 diverse suppliers to our U.S. businesses\\n• Invested >$39 million grants in smallholder capacity building in India15 and  \\nprogressed against a commitment made to triple exports of goods from India to $10 billion by 2027\\nSupporting American Manufacturing\\nWalmart has long supported American \\nmanufacturing and the creation of jobs in the \\nU.S., completing a commitment to purchase \\nan incremental $250 billion in products made, \\ngrown, or assembled in the U.S. in FY2023. \\nAnticipating the successful completion of this \\ncommitment, Walmart renewed its commitment \\nin 2021 and expanded its incremental spend goal \\nto $350 billion over ten years.\\nAs of the end of FY2023, Walmart has already purchased an incremental $47 billion towards \\nthat new goal. Our sourcing can have a profound \\nimpact on local communities: we expect our new \\ncommitment to catalyze the creation of more \\nthan 750,000 new jobs across the U.S. \\nAs just one example, longtime Walmart Supplier \\nClassic Fashion announced a new California cut-\\nand-sew apparel facility in October 2022, which \\nis expected to create 125 jobs by 2023 and an \\nadditional 225 jobs over five years.\\nSupplier Opportunity \\n• Support the creation of American jobs by \\nincreasing our sourcing of products made, \\ngrown, or assembled in the U.S.\\n• Source from and build capacity of diverse \\nsuppliers • Promote the production of goods in India \\nfor export \\n• Support smallholder farmers and small \\nproducers through sourcing and capacity \\nbuilding\\nSee our Supplier Opportunity ESG brief for more information \\nFY2023  \\nESG Highlights 15 Introduction Sustainability Community Ethics & Integrity\\n Opportunity',\n",
       " 'Sustainability\\nWalmart seeks to transform our business and product \\nsupply chains to be regenerative — optimizing \\noutcomes for climate, waste, nature, and people as  \\nwe serve our customers and grow our business. \\nRELATED ESG ISSUE BRIEFS:\\nProduct Supply Chain  \\nSustainability\\nClimate Change\\nRegeneration of Natural \\nResources: Forests, Land, Oceans\\nWaste: Circular Economy\\nPeople in Supply Chains \\nFY2023  \\nESG Highlights\\n',\n",
       " 'Sustainability Highlights\\nreduced or avoided by \\nsuppliers since 201716 \\nof global private-brand \\npackaging is  recyclable, \\nreusable, or industrially \\ncompostable, a  \\n5% increase over FY202263%18 \\nset goals and/or reported \\nprogress on responsible \\nrecruitment through \\nWalmart’s Supplier \\nLeadership Program on \\nPeople>400\\n SUPPLIERS\\nreduction in combined \\nScope 1 & 2 emissions \\nvs. 2015 baseline17 \\n(through 2021)  >750\\n  MILLION MT CO2e \\n23.2%>2MILLION ACRES  \\nOF LAND\\nconserved through \\nAcres for America \\nsince 2005FY2023  \\nESG Highlights 17 Opportunity Introduction Community Ethics & Integrity\\n Sustainability',\n",
       " 'Our aspiration: accelerate progress on the sustainability of our own \\nassortment and product supply chains across the retail and consumer goods \\nindustry\\nSTRATEGY\\n• Set standards and requirements for product \\nsourcing\\n• Engage and support suppliers to pursue \\nsocial and environmental initiatives \\n• Lead consortia to accelerate collective \\naction beyond Walmart• Help customers make informed choices \\nthrough labeling and cause campaigns \\n• Advocate for public policies that align with \\nsustainable supply chain priorities \\n• Accelerate systems change beyond Walmart \\nthrough philanthropic investments\\nFY2023 HIGHLIGHTS\\n• Achieved at least 95% “more sustainable” certification for several commodities, including fresh and \\nfrozen seafood,19 bananas,20 coffee,21 and tea22\\n• Offered products that meet trusted standards for personal well-being, our communities and the \\nenvironment through the Built for Better online shop\\n• Relaunched Member’s Mark brand — “Made with Our Member and Planet in Mind” \\n• Made steady progress across food, apparel, consumables, and general merchandise across climate, \\nwaste, nature, and people strategiesIn 2016, Walmart announced “20x25”: a goal to source at least 20 agricultural commodities more sustainably \\nby 2025. Since then, we have been working on the following:\\nOur approach to more sustainably sourcing these commodities\\n• Encouraging our suppliers to adopt more \\nsustainable sourcing practices, including \\nthrough product specifications and sourcing \\npolicies, as well as positions and policy \\nstatements\\n• Revamping sourcing specifications and \\nrequiring certifications where available and \\naligned with our aspirations• Collaborating with suppliers, other retailers, \\nNGOs, and others to improve practices across \\nthe sector\\n• Asking suppliers to measure and report \\nagainst progress\\n• Supporting place-based sourcing in critical \\necosystems\\n• Measuring and reporting transparentlyFloral & Produce\\nFresh flowers, \\napples, bananas, \\nberries, grapes, \\nleafy greens, \\npineapples, \\nstone fruit, and \\ntomatoesSpecialty Crops\\nCocoa, coffee, \\nand teaTextile, Pulp,  \\nPaper & Timber\\nCotton textiles, \\npulp, paper, and \\ntimberIngredients \\nU.S. corn, U.S. \\nwheat, U.S. soy, \\nSouth American \\nsoy, and palm oilProteins  \\nSeafood (wild \\ncaught and farm \\nraised), meat \\n(South American \\nbeef, U.S. beef, \\npork, and poultry), \\nand dairy\\nProduct Supply Chain Sustainability\\nSee our Product Supply Chain Sustainability ESG brief  for more information 20x2025 SUSTAINABLE COMMODITIESFY2023  \\nESG Highlights 18 Opportunity Introduction Community Ethics & Integrity\\n Sustainability',\n",
       " 'Climate Change\\nOur aspiration: we aim to galvanize collective action across the retail \\nand consumer goods sector through advocacy, supplier engagement, \\nphilanthropy, and innovation in product supply chain practices while taking \\nsteps to strengthen the resilience of our business against the effects of \\nclimate change\\nEV Fast Charging Network\\nWe are investing in clean energy \\ninfrastructure in the U.S. to make electric \\nvehicle (EV) ownership more accessible, \\nreliable, convenient, and affordable for \\nour customers. By 2030, we intend to \\nbuild out our EV fast-charging network \\nto at least 10,000 chargers across 2,500+ \\nWalmart and Sam’s Club locations in the \\nU.S., expanding on the EV fast-charging \\nstations that are already available at over \\n280 locations across the U.S.STRATEGY\\n• Govern our climate strategy through \\naccountable leadership and assess climate risk\\n• Mitigate emissions to achieve targets, \\ncovering our global operations (achieve \\nzero emissions by 2040) and supply chain \\n(reduce, avoid, or sequester 1 billion metric \\ntons of emissions through Project Gigaton) • Adapt our business to be more resilient in \\nthe face of climate risk\\n• Advocate for 1.5˚C aligned public policy \\n• Report transparently on our progress and \\nencourage suppliers to take action \\nFY2023 HIGHLIGHTS\\n• Decreased our combined Scope 1 and 2 emissions23 by 23.2% (through 2021)\\n• Increased percentage of electricity supplied by renewable sources to 46% (through 2021)24\\n• Increased supplier participation in Project Gigaton to ~75% of U.S. product net sales25\\n• Achieved >750MMT CO2e reduced, avoided, or sequestered through Project Gigaton26\\n• Advocated for climate-related policy in line with our Statement on Climate Policy including supporting \\nthe climate provisions of the Inflation Reduction Act05101520\\n6.08 6.716.67\\n6.15 6.857.25\\n7.37 13.8412.76 12.3011.4110.35\\n8.68\\n6.62\\nScope 1 Scope  2 (mark et-based)Millions Metric  Tons (MM T) CO2eWalmart’s Progress on Operational Emissions  \\n(Scope 1 and 2)27 \\n0Million Metric Tons (MM T) COe\\n(176)(158)(186 )(136)(58)(35)\\nCY2018 CY2019 CY2020 CY2021 CY2022 CY2023CY2015 CY2016 CY2017 CY2018 CY2019 CY2020 CY2021 \\nCumulative emissions reduced, avoided, or sequestered (MMT CO2e)\\nSee our Climate Change ESG brief  for more informationANNUAL GHG EMISSIONS\\nPROJECT GIGATON: >7 50 MMT CO2e REDUCED TO DATE28FY2023  \\nESG Highlights 19 Opportunity Introduction Community Ethics & Integrity\\n Sustainability',\n",
       " 'Project Gigaton: Transforming Supply Chains\\nWalmart launched Project Gigaton in 2017 as an ambitious initiative to \\ncatalyze decarbonization in product value chains through engagement of \\nsuppliers, NGOs, and other stakeholders. Our goal: to democratize climate \\naction and help reduce or avoid one billion metric tons (a “gigaton”) \\nof greenhouse gas emissions by 2030. Through Project Gigaton, we \\nencourage suppliers to take action in six action areas that are key to \\ndecarbonization and relevant to our suppliers’ businesses. \\nOver the past six years, we have expanded and deepened our work by \\nadding new tools, resources, and other opportunities for suppliers to \\naccelerate engagement and impact. For example, as part of Project \\nGigaton, Walmart collaborated with Schneider Electric to provide access \\nto accelerators like Gigaton PPA, which offers suppliers the opportunity \\nto participate in aggregate, utility-scale power purchase agreements. \\nWe also worked with CDP and HSBC to launch the Sustainable Supply \\nChain Finance Program, an early-payment program for suppliers who \\nset science-based targets through Project Gigaton or have achieved \\ncertain score thresholds from CDP. As Project Gigaton continues to make \\nprogress across areas of the supply chain critical to decarbonization, \\nWalmart is focused on increasing supplier engagement and ambition and \\ncatalyzing positive action.PROJECT GIGATON PILLARS\\nEnergy\\n• Gigaton PPA\\n• Tools and playbooks\\nNature\\n• Forums and summits\\n• Place-based initiative \\nconnectors\\nWaste\\n• 10x20x30 initiative\\n• Investing in technical \\nassistanceTransportation\\n• Collaborating on \\npublic policy\\n• Sharing resourcesCLIMATE CHANGE SPOTLIGHT\\nProduct Use  \\n& Design\\n• Investing in technical \\nassistance\\n• Golden design rulesPackaging\\n• Forums and summits\\n• Sustainable packaging \\nplaybook\\nreduced or avoided by \\nsuppliers since 201729 >750MILLION  \\nMT CO2e\\nsigned up  \\n for Project Gigaton>5,200\\nSUPPLIERSFY2023  \\nESG Highlights 20 Opportunity Introduction Community Ethics & Integrity\\n Sustainability',\n",
       " 'Our aspiration: to place nature in the center of our business practices, \\nincluding by protecting, more sustainably managing, or restoring at least  \\n50 million acres of land and 1 million square miles of ocean by 2030\\nPlace-Based Sourcing\\nWe support the development of place-based \\nand jurisdictional initiatives, which aim to create \\nshared value for producers, suppliers, and \\ncommunities across a landscape or seascape. \\nFor example, we partnered with The Nature \\nConservancy and the government of the \\nRepublic of the Marshall Islands to source \\ntuna certified to Marine Stewardship Council \\nstandards for our Great Value brand. The \\ninitiative aspires to distribute at least 40% of net \\nincome to directly support community-based \\nconservation and climate resilience projects including the development and management \\nof Marine Protected Areas and coral reef \\nrestoration. We also collaborate with Indigo Ag \\nto source Great Value rice from a place-based \\ninitiative in Arkansas. Rice farmers enrolled in the \\nproject implement on-farm practices that are \\nintended to improve water and land stewardship, \\nincluding crop rotation from legumes, fertilizer \\nmanagement, zero-grade rice production, \\nmultiple-inlet irrigation with computerized holes \\nelection, and furrow irrigation.STRATEGY\\n• Govern our nature strategy through \\naccountable leadership\\n• Identify nature-related dependencies, \\nimpacts, risks, and opportunities\\n• Foster more sustainable production of \\ncommodities\\n• Transition our operations toward \\nregenerative practices• Support conservation and restoration of \\ncritical ecosystems\\n• Encourage the development of place-based \\ninitiatives\\n• Advocate for and invest in enablers of \\nsystemic change \\nFY2023 HIGHLIGHTS\\n• Engaged through business or philanthropy in efforts to protect, more sustainably manage, or restore \\n>30 million acres of land and >1.4 million square miles of ocean\\n• Pursued seven place-based commodity sourcing initiatives (e.g., rice, tuna) \\n• Launched a nature portal to connect suppliers to information regarding place-based commodity \\nsourcing and conservation opportunities\\n• Reached a milestone of over two million acres conserved through the Acres for America program  \\nsince 2005 \\nRegeneration of Natural Resources: Forests, Land, Oceans\\nSee our Regeneration of Natural Resources ESG brief for more information \\nFY2023  \\nESG Highlights 21 Opportunity Introduction Community Ethics & Integrity\\n Sustainability',\n",
       " 'Waste: Circular Economy\\nOur aspiration: to achieve zero waste in our global operations and \\naccelerate the adoption of innovative packaging and products designed for \\ncircularity\\nCircular Connector\\nIn 2022 we launched our Circular Connector , \\ndesigned to help connect innovative packaging \\ncompanies to our private brand merchants and \\nsuppliers.\\nPackaging companies submit their packaging \\nsolutions through the Connector on the Walmart \\nSustainability Hub ; Walmart teams assess the fit with private brand packaging goals. To date, \\nthe Connector has gathered over 200 more \\nsustainable packaging solutions and made more \\nthan 4,000 connections between packaging \\nproviders and private brand suppliers.STRATEGY\\n• Achieve zero operational waste \\n• Eliminate food waste \\n• Optimize packaging and encourage \\ncustomer recycling • Reduce plastic waste\\n• Engage customers in the circular economy\\n• Invest in local infrastructure to address \\nsystemic issues around waste management\\nFY2023 HIGHLIGHTS\\n• Reduced food waste 12% (vs. 2016 baseline); \\ndiverted >900M lbs. of food waste to \\ncomposting, animal feed, anaerobic digestion, \\nand biochemical processing; and donated >760M \\nlbs. of food globally30\\n• 63% of global private brand packaging was \\nrecyclable, reusable, or industrially compostable31• Eliminated free plastic bags at checkout in \\nMexico, Canada, and more than 420 Walmart \\nstores in the U.S.\\n• Launched Walmart Restored , an online \\nmarketplace where customers can buy \\nrefurbished products\\n• Diverted 78% of operational waste globally, \\nincluding 89% in Canada, 80% in Mexico, and 78% \\nin the U.S.32\\nSee our Waste: Circular Economy ESG Brief  for more information \\nFY2023  \\nESG Highlights 22 Opportunity Introduction Community Ethics & Integrity\\n Sustainability',\n",
       " 'Our aspiration: to source responsibly while acting as a catalyst to improve \\nthe well-being of people working in product supply chains\\nSTRATEGY\\n• Set strong, responsible \\nsourcing standards, \\nmonitor suppliers \\nand facilities for \\ncompliance, and manage \\nnon-compliances and \\nremediation• Create economic \\nopportunity for people in \\nsupply chains by sourcing \\nfrom diverse and small \\nsuppliers and investing to \\nsupport smallholders• Collaborate with key \\nactors to address  \\nsystemic risks to worker \\nwell-being \\nSee our People in Supply Chains ESG brief  for more information FY2023 HIGHLIGHTS\\n• Assessed ~13,100 third-party responsible sourcing facility audit reports33\\n• Over 90% of assessed audit reports were rated green or yellow and less than 2% percent of facilities \\nassessed received a successive orange rating34\\n• 99% of Walmart U.S. and 99% of Sam’s Club U.S. net sales of fresh produce and floral were from \\nsuppliers endorsing the produce Ethical Charter35\\n• Continued to invest in building capability in responsible recruitment and dignified working conditions, \\nincluding in grants to IREX, Global Fishing Watch, The Nature Conservancy, Polaris, and the Woodrow \\nWilson International Center for ScholarsWalmart has committed to working with others to address risks to the dignity of workers in a minimum of 10 \\nretail supply chains by 2025 PEOPLE IN SUPPLY CHAINS — RETAIL SUPPLY CHAINS OF FOCUS\\nPeople in Supply ChainsFY2023  \\nESG Highlights 23 Opportunity Introduction Community Ethics & Integrity\\n Sustainability',\n",
       " 'Community\\nAs an omni-channel retailer with locations in thousands \\nof communities around the world, we seek to help \\ncommunities thrive and become more resilient.\\nRELATED ESG ISSUE BRIEFS:\\nServing Communities\\nSafer, Healthier Food  \\n& Other Products\\nDisaster Preparedness  \\n& Response \\nFY2023  \\nESG Highlights\\n',\n",
       " 'Community Highlights\\npounds of food \\ndonated in the U.S. to  \\nhelp fight hunger36 U.S. store and club \\nparticipation37 \\nLaunched the Walmart Healthcare \\nResearch Institute to increase community \\naccess to healthcare research that may \\nhelp lead to safer, higher quality, and more \\nequitable healthcare cash and in-kind  \\ndonations  globally38\\n93%FOOD DONATION PROGRAM\\n>665\\n  MILLION>$1.7\\n  BILLIONFY2023  \\nESG Highlights 25 Opportunity Introduction Sustainability Ethics & Integrity\\n Community',\n",
       " 'Our aspiration: as an omni-channel retailer with a physical presence in \\nthousands of communities around the world, Walmart seeks to help those \\ncommunities thrive and become more resilient\\nCaring and Connected Communities\\nWe believe in the power of positive, in-person \\ninteractions among people of different \\nbackgrounds to build trust. Walmart provides \\nsupport to organizations that bring people \\ntogether to create more caring and connected \\ncommunities. For example, The Trust for Public Land will use \\na Walmart Foundation grant of $1 million for its \\ninitiative “On Common Ground,” which helps \\nforge new relationships among community \\nmembers through shared spaces and community \\nprograms at city parks across the U.S.STRATEGY\\n• Provide convenient\\xa0access to affordable, \\nquality goods and services\\n• Contribute to economic vitality by providing \\nquality jobs, training and career paths,\\xa0  \\ninvesting in local suppliers, and\\xa0  \\ncontributing to local economies • Strengthen\\xa0community resilience by \\nsupporting\\xa0local organizations and causes, \\nincreasing food access, and preparing for \\nand responding to disasters \\n• Build more inclusive and engaged commu -\\nnities through advancing equity, supporting \\ncaring and connected communities, and \\ndeepening engagement between our stores \\nand clubs and their surrounding communities \\nFY2023 HIGHLIGHTS\\n• Contributed to local economies including by employing ~2.1 million people, paying $3.310 billion in \\nincome-based taxes worldwide, investing $4.990 billion in store and club remodels in the U.S., sourcing \\nmore than two-thirds of Walmart U.S.’s total product spend on items made, grown, or assembled in the \\nU.S., and donating more than $1.7 billion in cash and in-kind donations globally\\n• In the U.S., launched Spark Good, a new community engagement platform that provides more \\nopportunities for customers and associates to support the causes that matter most to them; our \\nU.S. locations, associates and customers collectively donated more than $146 million to charitable \\norganizations in FY2023\\nSee our Serving Communities ESG brief for more information \\nServing CommunitiesFY2023  \\nESG Highlights 26 Opportunity Introduction Sustainability Ethics & Integrity\\n Community',\n",
       " 'See our Safer, Healthier Food & Other Products ESG brief for more information FY2023 HIGHLIGHTS\\n• Supported a strong food safety culture, including by conducting approximately 71,000 independent food \\nsafety audits and training ~1.2 million associates in at least one food safety course\\n• Promoted access to healthier food by ensuring SNAP benefits can be used at all Walmart stores as well \\nas online in 49 states and by updating the Great for You nutrition criteria to match the 2020-2025 USDA \\nDietary Guidelines for Americans\\n• Reduced the footprint of priority chemicals in Walmart U.S. and Sam’s Club U.S. formulated consumables \\nby 20% compared to a 2017 baseline39 \\nSafer, Healthier Food & Other Products\\nOur aspiration: to improve the lives of people around the world by \\nproviding access to safer, healthier, and more affordable food and products \\nInnovation in Food Safety\\nWe use machine learning technology that \\nintegrates compliance data (such as audits and \\nregulatory visits) and operations data (such as \\nfacilities maintenance and logistics) to identify \\nearly risk indicators of pressure or strain on our \\nstores or clubs. This information helps us prioritize the deployment of resources towards areas with a \\nhigher likelihood of food safety failure. \\nThe Food Marketing Institute awarded Walmart \\nthe 2022 Food Safety Innovation Award for \\ndevelopment and deployment of this technology.STRATEGY\\n• Provide safe, high-quality foods for our \\ncustomers, including by promoting a positive \\nfood safety culture and a safer food system\\n• Improve access to healthier food options \\nand enable customer choice• Provide safe and affordable merchandise \\nwhile promoting safer use and formulation \\nof products across the industry\\nFY2023  \\nESG Highlights 27 Opportunity Introduction Sustainability Ethics & Integrity\\n Community',\n",
       " 'FY2023 HIGHLIGHTS\\n• To protect our associates, customers, and communities, our Emergency Operations Center  \\noperates 24/7/365\\n• ~$16 million globally in cash and in-kind donations for disaster recovery and preparedness \\nDisaster Preparedness & Response\\nOur aspiration: to effectively prepare for and respond to disasters,  \\nwith a focus on associate well-being, serving customer needs through  \\nswift and safe recovery of business operations, and supporting  \\nimpacted communities \\nCollaborating with Partners  \\nfor Disaster Preparedness\\nA key aspect of disaster planning and \\npreparation is knowing the community \\nand establishing relationships with \\ncommunity stakeholders before a crisis \\nevent. Including relevant stakeholders \\nin disaster planning efforts promotes \\ncoordinated disaster response efforts, \\ndrives information sharing, helps us to \\ndirect resources where they are most \\nneeded, and can lead to more targeted \\nsupport for communities in need after  \\na disaster.\\nTo strengthen these relationships and \\ncoordination, Walmart convened a \\nPreparedness Summit in 2022, bringing \\ntogether more than 100 representatives \\nfrom corporations, government agencies, \\nNGOs, and local nonprofits at Walmart’s \\nHome Office campus. Participants shared \\nknowledge and best practices on topics \\nincluding preparedness and technology, \\nstrengthening partnerships, the role \\nof supply chains in disaster relief, and \\nimproving and increasing coordination  \\nand innovation in the disaster \\npreparedness space. STRATEGY\\n• Disaster planning and preparation through \\nrisk assessment, business continuity \\nplanning, private-public collaboration, \\ntraining, and supporting community \\nresilience-building, particularly in vulnerable \\ncommunities• Disaster response, including ensuring \\nassociate safety and well-being, swift and \\nsafe recovery of business operations for the \\nbenefit of our customers, and supporting \\nimpacted communities\\nSee our Disaster Preparedness & Response ESG brief for more informationSUPPORTING OUR STAKEHOLDERS\\nAssociates\\nEnsuring the well-being of our \\nassociates and their families\\nCustomers and Members\\nMaintaining and restoring our \\noperations to serve customers \\nand members swiftly and safely\\nCommunities\\nHelping vulnerable communities \\nbuild resilience before disasters \\nand supporting impacted \\ncommunities after disastersFY2023  \\nESG Highlights 28 Opportunity Introduction Sustainability Ethics & Integrity\\n Community',\n",
       " 'Hurricane Ian Response\\nIn the days before Hurricane Ian hit Florida in September \\n2022, Walmart associates began preparations for the storm, \\nincluding facilities walks and roof checks, airing hurricane \\npreparedness videos and weather forecasts on TVs in stores \\nand clubs, and pre-staging resources and mobile generators \\nat Walmart facilities in the expected path of the storm. \\nOur team began working closely with the state of Florida’s \\nEmergency Operations Center, where they would remain \\nembedded for more than a week to help coordinate with \\nlocal facilities, emergency responders, and local leaders. The \\nstorm brought historic flooding and rainfall and hundreds \\nof Walmart stores, clubs, and distribution centers in its \\npath were affected, with dozens losing power and suffering \\ndamage from wind and water. Shortly after the storm passed, \\nstores and clubs began to reopen to safely resume serving \\ncustomers and members.\\nCustomers, members, and associates saw significant damage \\nto their homes and were left without utilities and water. To \\nmeet community needs, Walmart locations hosted services \\nand water and meal distributions in their parking lots. \\nNonprofits including Cajun Navy Relief and The Salvation \\nArmy worked alongside our associates to help get resources \\nlike water, food, and emergency supplies to people in need. \\nWhile power remained down for many across the region, \\nsome of our parking lots also hosted shower and laundry \\nservices, including P&G’s Tide Loads of Hope. Walmart private fleet drivers poured into the region from \\nacross the country, delivering an additional 3,800 truckloads \\nof water to support stores and clubs and for distribution to \\ncommunities and local nonprofits.\\nWalmart truck drivers also brought relief to the community \\nthrough Walmart’s Mobile Relief Kitchen, a fully equipped \\ncooking trailer designed for disaster response. For several \\nweeks, these associates cooked and served over 84,000 hot \\nmeals.\\nWalmart driver Greg Carter, who is based in Indiana, traveled \\nto Florida to work at the Mobile Relief Kitchen with his \\nfellow associates. To him, stepping up to help is simply part \\nof the job. “Everything about Walmart is to take care of the \\ncustomer,” Carter said. “This is just one of the facets that \\nwe have. Walmart fills the needs of communities — not only \\nwhen times are good, but especially when times are bad.” \\nOverall, Walmart, Sam’s Club, and the Walmart Foundation \\ndonated over $6 million in grants and supplies that helped \\nnonprofits feed and shelter people, clean up debris, and \\nprovide relief to underserved communities. \\nSee more in our Hurricane Ian timeline .\\nDISASTER PREPAREDNESS & RESPONSE SPOTLIGHTFY2023  \\nESG Highlights 29 Opportunity Introduction Sustainability Ethics & Integrity\\n Community',\n",
       " 'Ethics & Integrity\\nWalmart strives to make trust a competitive advantage. \\nModeling the highest standards of ethics and \\ncompliance helps us create and maintain a culture of \\nintegrity, which builds trust in our business.\\nRELATED ESG ISSUE BRIEFS:\\nEthics & Compliance\\nCorporate Governance\\nEngagement in Public Policy\\nDigital Citizenship: Ethical \\nUse of Data & Responsible \\nUse of Technology\\nHuman Rights\\nFY2023  \\nESG Highlights\\n',\n",
       " 'Ethics & Integrity Highlights\\nNon-management 91%\\nIndependent 64%\\nFemale 27%\\nRacially/ethnically  \\ndiverse18%WALMART INC. BOARD OF DIRECTORS40 \\ntech assets continually \\nscanned for vulnerabilities~3MILLIONassociates globally completed  \\nCode of Conduct training>1.4MILLIONFY2023  \\nESG Highlights 31 Opportunity Introduction Sustainability Community\\n Ethics & Integrity',\n",
       " 'FY2023 HIGHLIGHTS\\n• Updated our Ethics & Compliance program to focus on nine core program foundations\\n• Offered 29 languages on the 24/7 Walmart ethics helpline\\n• More than 1.4 million associates globally completed Code of Conduct training\\n• Walmart private fleet drivers drove more than 1 billion safe miles\\nEthics & Compliance\\nOur aspiration: to model the highest standards of ethics and compliance  \\nto create and maintain a culture of integrity and build trust \\nIntegrity in Action Award\\nSetting the appropriate tone from the top \\nand creating a culture of ethics is integral \\nto an effective Ethics and Compliance \\nprogram. Recognizing and rewarding \\nethical behaviors helps to facilitate the \\ncreation of that culture. \\nWalmart’s Integrity in Action Award \\nis a global recognition program that \\ncelebrates associates who exemplify our \\nvalues and champion a culture of integrity. \\nFor example, in 2022, a Walmart Chile \\nassociate was recognized with this \\naward for upholding company values by \\ndeclining a supplier’s unethical proposal. \\nThe associate was presented with the \\naward and celebrated in the company’s \\npublications.STRATEGY\\n• Set foundations for an effective ethics and \\ncompliance program including maintaining a \\nstrong corporate culture of compliance and  \\na mindset of continuous improvement• Uphold standards of compliance across the \\nbusiness, including related to health and \\nsafety, anticorruption, antidiscrimination and \\nharassment, food safety, digital citizenship, \\nand responsible sourcing\\nSee our Ethics & Compliance ESG brief for more information \\nETHICS & COMPLIANCE PROGRAM FOUNDATIONSFY2023  \\nESG Highlights 32 Opportunity Introduction Sustainability Community\\n Ethics & Integrity',\n",
       " 'FY2023 HIGHLIGHTS\\n• Provided updates on our ESG agenda and progress to the Nominating and Governance Committee  \\nof the Walmart Board\\n• Each governance-related Board committee, as well as the Strategic Planning and Finance Committee,  \\nis led by an independent chair\\n• Established an ESG Disclosure Committee to supervise, review, and monitor the preparation of ESG \\nreports and information for publication as well as approve information governance standards related to \\nthe production of ESG reports and information\\nCorporate Governance\\nOur aspiration: to create an environment of accountability, transparency \\nand trust in our business that fosters business integrity, financial stability, \\nand responsible and long-term growth\\nSTRATEGY\\n• Maintain a majority independent Board \\n• Provide effective oversight of strategy, \\nrisks, and opportunities\\n• Develop a talented and diverse pipeline of \\nleaders• Design compensation programs to support \\nenterprise strategy\\n• Engage regularly with and receive feedback \\nfrom a wide variety of stakeholders\\nSee our Corporate Governance ESG brief  for more information \\nMETRIC 2023  2022 2021\\nDirector independence — independent Board members as a percentage of all directors 64% 64% 67% \\nPercentage of Board members who are women 27% 27% 25%\\nPercentage of Board members who are ethnically or racially diverse 18% 18% 17%\\nBoard and committee meeting attendance rate — meetings attended as a percentage of \\nall meetings99% 98% 98%CORPORATE GOVERNANCE METRICS41 FY2023  \\nESG Highlights 33 Opportunity Introduction Sustainability Community\\n Ethics & Integrity',\n",
       " 'FY2023 HIGHLIGHTS\\n• Advocated for laws, regulations, and policies \\naligned with our shared-value interests, \\nincluding the climate provisions in the Inflation \\nReduction Act and the American Innovation and \\nManufacturing Act\\n• Engaged trade associations in support of our \\nagenda to oppose tariffs that increase costs for \\nconsumers and reduce the competitiveness of \\nU.S. manufacturers• Promoted greater accessibility to health and \\nwellness services by advocating for expanding \\nthe role of health professionals and supporting \\nlegislation that helps ensure individuals have the \\ntechnology to access telehealth services42\\n• Advanced a more circular economy by \\npromoting extended producer responsibility \\nlegislation\\nEngagement in Public Policy \\nOur aspiration: to shape public policy that enables our business and  \\nthe creation of shared value for our business, customers, associates,  \\nand other stakeholders\\nMarketplace Trust & Transparency\\nCounterfeit and stolen goods are a growing \\nproblem on some online marketplaces. That is \\nwhy we advocated for the INFORM Consumers \\nAct, consumer protection legislation that would curb these activities and reduce the safety \\nthreat to our customers. The Act was enacted \\nin 12 states in 2022 and became federal law in \\nDecember 2022. STRATEGY\\n• Align public policy activities \\nwith our business priorities \\nand values \\n• Advocate for policies that \\npromote the interests of \\nour customers and other \\nstakeholders • Engage in the political \\nprocess by encouraging \\nour associates to vote \\nas well as through the \\nWalmart Inc. Political Action \\nCommittee for Responsible \\nGovernment• Work with trade associations \\nand business coalitions to \\nprioritize and advance issues \\nthat affect our stakeholders \\nand our business \\nSee our Engagement in Public Policy ESG brief  for more information \\nFY2023  \\nESG Highlights 34 Opportunity Introduction Sustainability Community\\n Ethics & Integrity',\n",
       " 'FY2023 HIGHLIGHTS\\n• Incorporated privacy by design principles into the design, development, procurement, and modification \\nof our tech, business processes, and projects that include processing of personal information\\n• Continued annual assessment of our cybersecurity programs against third-party requirements\\n• >1.4 million associates completed trainings on digital citizenship and information security\\n• Blocked more than 100 billion bots on our websites in 2022\\nDigital Citizenship: Ethical Use of Data & Responsible Use of Technology \\nOur aspiration: to build and maintain the trust of customers, associates,  \\nand communities with respect to our use of technology and data\\nSTRATEGY\\n• Promote fairness through our Digital Trust \\nCommitments\\n• Protect the privacy of customer and \\nassociate information through our policies \\nand controls• Manage and support the safety of our \\nrecords, information, and data\\n• Protect our information and digital \\ninfrastructure \\nSee our Digital Citizenship ESG brief  for more informationDIGITAL TRUST COMMITMENTS\\nService\\nOur use of technology \\nand data will be in \\nservice of peopleExcellence\\nWe strive for excellence \\nin our technology, \\nmaking it simple, \\nconvenient and secureIntegrity\\nWe will use data \\nresponsibly and \\ntransparently and \\nalways with integrityRespect\\nOur data practices \\nand technology will \\ntreat people fairly, with \\ndignity and respectWalmart’s Digital Trust Commitments provide a foundation for the company to earn and maintain customer trust \\nin an omni-channel, data- and technology-driven world\\nFY2023  \\nESG Highlights 35 Opportunity Introduction Sustainability Community\\n Ethics & Integrity',\n",
       " 'How Walmart Protects Against Cyber Threats\\nIn today’s complex security landscape, cyberattacks can \\ndisrupt companies, institutions, and governments in the blink \\nof an eye. Walmart’s Information Security team helps to build \\nand maintain the trust of our customers, associates, and \\nstakeholders by securing our operating environment. \\nOur team analyzes more than seven trillion alerts annually. \\nTo help manage the volume of threats, we are prioritizing \\nautomation, including by deploying leading third-party tools, \\nsupplementing them with our own purpose-built tools, and \\nleveraging internal and external experts to enhance our \\nautomated threat management capabilities. One alert that has become more prevalent — especially \\naround the holidays — are retail bots, which are automated \\nprograms that purchase inventory online. As more holiday \\ncommerce volume has shifted online, we worked to eliminate \\nthese bots via automated, purpose-built capabilities that only \\nallow legitimate customers to purchase products. Last year, \\nwe blocked approximately 8.5 billion bots per month. \\nDIGITAL CITIZENSHIP SPOTLIGHTFY2023  \\nESG Highlights 36 Opportunity Introduction Sustainability Community\\n Ethics & Integrity',\n",
       " 'FY2023 HIGHLIGHTS\\n• >400 suppliers set goals and/or reported progress on responsible recruitment through Walmart’s \\nSupplier Leadership Program on People \\n• Financially supported the creation of a data ecosystem and engagement channels to empower and \\npromote the responsible recruitment of migrant workers in the U.S.-Mexico agriculture corridor\\n• Began a refresh of our human rights due diligence approaches, including re-examining our salient issues, \\nfocus areas, governance, policies, and practices\\n• Participated in the Owned Operations working group of the Consumer Goods Forum, which includes \\nHuman Rights Due Diligence activities\\nHuman Rights \\nOur aspiration: to use our scale, capabilities, and influence to help people \\nand communities improve their lives, with a focus on our salient human \\nrights issues\\nSTRATEGY\\n• Identify salient human rights issues and \\nfocus areas most relevant to our business\\n• Govern our approach to human rights \\nin accordance with our Human Rights \\nStatement , including oversight by \\nmanagement and the Walmart Board of \\nDirectors• Manage salient human rights issues \\nin our operations and supply chains, \\nincluding through policies, engagement, \\nassessing impacts, integration of findings, \\nperformance tracking, and appropriate \\nremedy\\nSee our Human Rights ESG brief for more informationSALIENT HUMAN RIGHTS ISSUES\\nTreating Workers  \\nwith Respect\\n• Pay; working hours\\n• Freedom of \\nassociation and \\ncollective bargaining\\n• Meaningful \\nopportunities for \\nworkers to be heardPromoting a Safe \\n& Healthy Work \\nEnvironment\\n• Physical safety and \\nsecurity of work \\npremises\\n• Workplace abuse\\n• Healthy work \\nenvironmentsProviding a Fair \\n& Inclusive Work \\nEnvironment\\n• Anti-discrimination \\nand harassment\\n• Diversity and \\ninclusion\\n• Gender equityCombating Forced  \\n& Underage Labor\\n• Forced labor, \\nincluding debt \\nbondage\\n• Underage labor\\n• Vulnerability of \\nmigrant workers; \\nresponsible \\nrecruitment\\n• Human traffickingWalmart focuses its efforts on its identified salient human rights issues:FY2023  \\nESG Highlights 37 Opportunity Introduction Sustainability Community\\n Ethics & Integrity',\n",
       " 'Appendix\\nFY2023  \\nESG Highlights\\n',\n",
       " 'About Our Reporting\\nEach priority issue is covered in-depth in our ESG Issue Briefs . The \\nbriefs cover our aspirations and strategies with respect to that issue, the \\nrelevance of the issue to business and society, our key goals and metrics, \\nand our progress to date. These briefs will be updated from time to time \\nand may not align with fiscal year reporting periods.\\nThese ESG Highlights provide an overview of our shared value approach \\nto ESG, our ESG priorities, and key highlights from the year, but it is not \\nintended to be comprehensive. This report covers activities during the \\nfiscal year ending January 31, 2023 (FY2023), except as otherwise noted. \\nCalendar years (CY) are marked as such or written in a four-digit format. \\nAs we highlight each issue in this report, we provide links to the relevant \\nissue brief or briefs.\\nNew this year, we are sharing our key ESG metrics as a downloadable \\nspreadsheet to make it easier for our stakeholders to get the information \\nthey need. This spreadsheet will be updated from time to time as new \\ninformation becomes available. \\nWe sought and received external assurance from a third party with respect \\nto certain emissions-related information. We did not seek or receive \\nexternal assurance from third parties with respect to other information, although in certain instances third parties assisted in the process of \\ncollecting, analyzing, and calculating information.\\nOur reporting is guided by widely used voluntary reporting frameworks, \\nincluding the Global Reporting Initiative (GRI) Standards, Sustainability \\nAccounting Standards Board (SASB), the Task Force on Climate-related \\nFinancial Disclosures (TCFD), and the United Nations (U.N.) Sustainable \\nDevelopment Goals (SDGs). We also report through programs such as \\nCDP, a global environmental disclosure system. Please see our GRI , SASB , \\nTCFD , and  UN SDGs tables for more information. \\nAll references to “Walmart” in our ESG reporting are to Walmart \\nInc., a Delaware corporation, and its consolidated subsidiaries that \\nwere subsidiaries during the reporting period, excluding all acquired \\neCommerce businesses, platforms, and/or marketplaces, unless otherwise \\nnoted. Financial information referenced in our ESG reporting reflects \\nthe scope of the Walmart Inc. consolidated financial statements unless \\notherwise noted. This report also covers some activities of the Walmart \\nFoundation, a separately incorporated Delaware charitable private \\nfoundation. “Walmart.org” is used to refer to the collective philanthropy of \\nWalmart Inc. and the Walmart Foundation.Walmart has reported on a wide range of ESG issues since 2005. Our reporting is focused on our priority ESG issues \\n— those that we believe are the most relevant to our business and important to our stakeholders.\\nFY2023  \\nESG Highlights 39 Opportunity Introduction Sustainability Community Ethics & Integrity\\n',\n",
       " 'Forward-Looking Statements\\nThese ESG Highlights and our various ESG Issue Briefs do not cover all \\ninformation about our business, and inclusion of information therein is \\nnot an indication that the subject or information is material to Walmart’s \\nbusiness or operating results for purposes of U.S. securities laws and \\nregulations. Statements other than statements of historical or current \\nfacts, including statements and images about our ESG targets, goals, \\naspirations, commitments and programs, and other business plans, \\ninitiatives, and objectives are forward-looking statements and are based \\non Walmart management’s current assumptions and expectations. These \\nstatements are typically accompanied by the words “aim,” “ambition,” \\n“anticipate,” “aspire,” “believe,” “can,” “commit,” “estimate,” “expect,” \\n“forecast,” “goal,” “hope,” “intend,” “may,” “on track,” “plan,” “predict,” \\n“project,” “strive,” “target,” “will,” “would,” or other similar words. All such \\nstatements are intended to enjoy the protection of the safe harbor for \\nforward-looking statements within the meaning of Section 21E of the \\nSecurities Exchange Act of 1934, as amended. Our actual future results, \\nincluding the achievement of our targets, goals, or commitments, could \\ndiffer materially from our projected results as the result of a variety \\nof factors, including, but not limited to, changes in circumstances, \\nassumptions not being realized, or other risks, uncertainties, and factors, \\nmany of which are outside of our control. Such risks, uncertainties \\nand factors include the risk factors discussed in Item 1A of our most \\nrecent Highlight Report on Form 10-K and in subsequent filings with \\nthe Securities and Exchange Commission (SEC); they also include the \\nchallenges, assumptions and dependencies identified in our ESG Issue Briefs. We urge you to consider all of the risks, uncertainties, and factors \\nidentified above or discussed in these ESG Highlights and each of our ESG \\nIssue Briefs carefully in evaluating the forward-looking statements therein. \\nWalmart cannot assure you that the results reflected or implied by any \\nforward-looking statement will be realized or, even if substantially realized, \\nthat those results will have the forecasted or expected consequences \\nand effects. Unless expressly stated otherwise, the forward-looking \\nstatements in these ESG Highlights and our ESG Issue Briefs are made \\nas of the effective date identified in the issue brief, and we undertake no \\nobligation to update or revise these forward-looking statements to reflect \\nsubsequent events or circumstances. Standards of measurement and \\nperformance made in reference to the goals, aspirations, and objectives \\nreferred to in these ESG Highlights and our various ESG Issue Briefs \\nare developing and based on protocols, processes, and assumptions \\nthat continue to evolve and are subject to change in the future, and \\nno assurances can be given that any plan, initiative, projection, goal, \\ncommitment, expectation, or prospect set forth in these ESG Highlights \\nor our ESG Issue Briefs can or will be achieved. FY2023  \\nESG Highlights 40 Opportunity Introduction Sustainability Community\\n Ethics & Integrity',\n",
       " 'Endnotes\\n1 Average total compensation includes average hourly pay, other compensation, and benefits per \\nhour for full- and part-time associates. This does not include special cash bonuses or paid leave related to \\nCOVID-19.\\n2 The calculation excludes the following associate types: Home Office, pharmacists, on-site-clinics, \\ndrivers, management trainees, and temporary associates.\\n3 Data for promotions includes both hourly and management promotions and excludes Walmart \\nHome Office promotions.\\n4 Calculation is for associates working in stores, clubs, and supply chain.\\n5 A diverse supplier is defined as a U.S. privately held company that is recognized as at least 51% \\nowned and operated by a woman, minority, veteran, disabled veteran, a person with a disability, or a \\nmember of the lesbian, gay, bisexual, transgender, or queer (LGBTQ+) community. All references to \\n“diverse suppliers” in this report follow this definition.\\n6 Calculation is for associates working in stores, clubs, and supply chain.\\n7 Data for promotions includes both hourly and management promotinos and excludes Walmart \\nHome Office promotions.\\n8 Wage metrics in the table exclude the following associate types: Home Office associates, \\npharmacists, on-site-clinics, drivers, management trainees, and temporary associates.\\n9 The average hourly starting rate is calculated as the average hourly wage of U.S. associates that \\njoined in the preceding six months. Starting wage ranges were $12-$32/hour (Walmart U.S.), $15-$32/hour \\n(Sam’s Club U.S.), and $16-$30 (supply chain). The minimum starting wage rate was increased to $14/hour in \\nWalmart U.S. in February 2023.\\n10 Average total compensation includes average hourly pay, other compensation, and benefits per \\nhour for full-and part-time associates. This does not include special cash bonuses or paid leave related to \\nCOVID-19.\\n11 This segment includes Walmart U.S. stores and supply chain.\\n12 This segment includes Sam’s Clubs and supply chain.\\n13 Supply chain includes associates who work in distribution and fulfillment centers but excludes \\ndrivers.\\n14 U.S. metrics include all 50 states but exclude Puerto Rico. U.S. non-management metrics include \\nall hourly associates, excluding temporary associates. U.S. management metrics include all salaried, exempt \\nassociates. U.S. officer metrics include president, executive vice president, senior vice president, and vice president positions. Data for the U.S. is as of January 31.\\n15 As reported by grantee organizations. Farmers may benefit from more than one investment or \\nprogram. Each engagement will be included in calculating total reach. \\n16 Calculated in accordance with Walmart’s Project Gigaton Accounting Methodology, available on \\nthe Walmart Sustainability Hub. Suppliers submit information during a Project Gigaton reporting season; \\nfigures reported are for the reporting season that took place during the corresponding fiscal year. Because \\nWalmart does not restrict suppliers to reporting only on emissions avoidance and reduction efforts that are \\nattributable to the suppliers’ business with Walmart, actions taken and reported through Project Gigaton \\ncannot be used to measure Walmart’s Scope 3 emissions, either absolutely or in year-over-year reductions.\\n17 Annual Scopes 1 and 2 GHG emissions are updated from time to time for changes in emission \\nfactors or activity data when more accurate information become available. This may result in updated \\nemissions reported in the ESG Climate Change brief that may not correspond to results reported to CDP \\nfor our annual Climate Change questionnaire. Flipkart emissions data is excluded from Walmart’s Scope 1 \\nand 2 emissions footprint and progress calculation. We believe excluding Flipkart’s data will have negligible \\nimpact on the overall reporting.\\nWe engage Lucideon CICS to independently verify Walmart’s reported Scope 1 and 2 emissions as reported \\nto CDP annually, pursuant to ISO 14064-3 (the international standard for verification of Greenhouse \\nGas inventories). We follow Walmart’s Greenhouse Gas Inventory Methodology in calculating our GHG \\nemissions, which is consistent with the principles and guidance of the World Resources Institute and the \\nWorld Business Council for Sustainable Development’s Greenhouse Gas Protocol Initiative (“The GHG \\nProtocol”) for corporate GHG accounting and reporting. Scope 2 (market-based) emissions include the \\ncarbon reduction value of renewable electricity procured from onsite and offsite projects. \\nTo account for structural changes in our business, we strive to adjust our emission reduction progress \\non Scope 1 and 2 emissions to add or subtract emissions for entities acquired or divested in the year the \\nacquisition or divestiture took place, including adjusting for previous years (including the baseline year).\\n18 For the time frame of the private brands packaging survey, we instructed suppliers to use their \\nlatest or most recent 12-month period for which they have data available. If they reported last year, use \\nthe same reporting period as the initial/prior reporting year to avoid gaps or overlap with the prior year’s \\nsubmissions. For suppliers that did not complete the survey or provided unusable data, proxy data was \\nsubstituted to provide a full estimate of global private brand packaging. For the proxy calculation, a market \\nlevel approach was used.\\n19 Includes Walmart U.S. and Sam’s Club U.S. fresh and frozen, wild-caught and farmed seafood. \\nSourced from fisheries that are third-party certified as more sustainable, actively working toward certification or engaged in a fishery improvement project (FIP) or Aquaculture Improvement Project (AIP). \\nTracked on the FishChoice platform, FisheryProgress.org. Publicly registered FIPs include FIPs and Pre-\\nFIPs, both of which are registered with Fishsource.\\n20 Includes Walmart U.S. and Sam’s Club U.S. bananas. Results do not include volume from spot buys. \\nSpot buy bananas may not qualify as certified “more sustainable.” Walmart defines “more sustainable” \\nbananas as bananas that are certified by Rainforest Alliance, Sustainably Grown, or Fair Trade.\\n21 Includes Walmart U.S. and Sam’s Club U.S. combined coffee. Walmart defines “more sustainable” \\ncoffee as coffee sourced as certified by Fair Trade, Rainforest Alliance Certified, or UTZ.\\n22 Includes Walmart U.S. private brand black and green tea bags and instant iced teas as certified. \\nWalmart defines “more sustainable” tea as tea sourced as certified by Rainforest Alliance.\\n23 Annual Scopes 1 and 2 GHG emissions are updated from time to time for changes in emission \\nfactors or activity data when more accurate information become available. This may result in updated \\nemissions reported in the ESG Climate Change brief that may not correspond to results reported to CDP \\nfor our annual Climate Change questionnaire. Flipkart emissions data is excluded from Walmart’s Scope 1 \\nand 2 emissions footprint and progress calculation. We believe excluding Flipkart’s data will have negligible \\nimpact on the overall reporting.\\nWe engage Lucideon CICS to independently verify Walmart’s reported Scope 1 and 2 emissions as reported \\nto CDP annually, pursuant to ISO 14064-3 (the international standard for verification of Greenhouse \\nGas inventories). We follow Walmart’s Greenhouse Gas Inventory Methodology in calculating our GHG \\nemissions, which is consistent with the principles and guidance of the World Resources Institute and the \\nWorld Business Council for Sustainable Development’s Greenhouse Gas Protocol Initiative (“The GHG \\nProtocol”) for corporate GHG accounting and reporting. Scope 2 (market-based) emissions include the \\ncarbon reduction value of renewable electricity procured from onsite and offsite projects. To account \\nfor structural changes in our business, we strive to adjust our emission reduction progress on Scope 1 and \\n2 emissions to add or subtract emissions for entities acquired or divested in the year the acquisition or \\ndivestiture took place, including adjusting for previous years (including the baseline year).\\n24 This includes generation from active renewable and low-carbon projects. It considers the combined \\ncontribution of power generated from on-site and off-site projects as well as renewable energy generation \\nfeeding into the grids where our sites are located. Third-party-verified energy consumption data is one \\nyear in arrears for the CY2019 and CY2020 years. For CY2021, the latest energy consumption data was \\nused. This was used in combination with the electricity procured from our renewable energy projects \\nand the most recent grid fuel mix information obtained from the International Energy Agency for the \\nregions where we operate. This estimate does not include energy data for our Flipkart business. We believe \\nexcluding Flipkart data will have a negligible impact on our estimate.FY2023  \\nESG Highlights 41 Opportunity Introduction Sustainability Community Ethics & Integrity\\n',\n",
       " '25 The U.S. product net sales figure used for the calculation includes Walmart U.S. and Sam’s Club \\nproduct net sales for the previous four quarters (Q3 through Q2) prior to the start of the survey reporting \\nwindow. The percentage represents U.S. product net sales of suppliers that reported to Project Gigaton in \\nthe reporting year versus all U.S. product net sales. The calculation excludes Walmart International segment \\nproduct net sales from the calculation.\\n26 Calculated in accordance with Walmart’s Project Gigaton Accounting Methodology, available on \\nthe Walmart Sustainability Hub. Suppliers submit information during a Project Gigaton reporting season; \\nfigures reported are for the reporting season that took place during the corresponding fiscal year. Because \\nWalmart does not restrict suppliers to reporting only on emissions avoidance and reduction efforts that are \\nattributable to the suppliers’ business with Walmart, actions taken and reported through Project Gigaton \\ncannot be used to measure Walmart’s Scope 3 emissions, either absolutely or in year-over-year reductions.\\n27 Annual Scopes 1 and 2 GHG emissions are updated from time to time in the ESG Climate Brief to \\naccount for changes in emission factors or the availability of more accurate activity data. Flipkart emissions \\ndata is excluded from Walmart’s Scope 1 and 2 emissions footprint and progress calculation. We believe \\nexcluding Flipkart’s data will have a negligible impact on the overall reporting. Our emissions footprint in \\nCO2e is calculated to include emissions for our operations for the period in which we owned the operations \\nin the reporting year. This may result in updated emissions reported not corresponding to results reported \\nto CDP for our annual Climate Change questionnaire. \\nWe engage Lucideon CICS to independently verify Walmart’s reported Scope 1 and Scope 2 emissions \\nas reported to CDP annually, pursuant to ISO 14064-3 (the international standard for verification of \\nGreenhouse Gas inventories). We follow Walmart’s Greenhouse Gas Inventory Methodology in calculating \\nour GHG emissions, which is consistent with the principles and guidance of the World Resources Institute \\nand the World Business Council for Sustainable Development’s Greenhouse Gas Protocol Initiative (“The \\nGHG Protocol”) for corporate GHG accounting and reporting. The GHG Protocol outlines three emissions \\nsources (referred to as “scopes”) that provide the framework for operational boundaries. The three scopes \\nare: \\nScope 1, “Direct Emissions,” represent emissions from the combustible fuels and other sources that occur \\ndirectly on sites (e.g., refrigerants,) and mobile emissions sources. \\nScope 2, “Indirect Emissions,” represent emissions that occur off-site to produce electricity or steam \\npurchased for use at corporate locations. \\nScope 3, “Other Indirect Emissions,” represents emissions from activities down or upstream from a \\ncompany’s core business such as product use, waste disposal, commuting, and business travel.\\nScope 2 (market-based) emissions include the carbon reduction value of renewable electricity procured \\nfrom onsite and offsite projects. To account for structural changes in our business, we strive to adjust our \\nemission reduction progress on Scope 1 and 2 emissions to add or subtract emissions for entities acquired \\nor divested in the year the acquisition or divestiture took place, including adjusting for previous years \\n(including the baseline year).\\n28 Calculated in accordance with Walmart’s Project Gigaton Accounting Methodology, available on the Walmart Sustainability Hub. Suppliers submit information during a Project Gigaton reporting season; \\nfigures reported are for the reporting season that took place during the corresponding fiscal year. Because \\nWalmart does not restrict suppliers to reporting only on emissions avoidance and reduction efforts that are \\nattributable to the suppliers’ business with Walmart, actions taken and reported through Project Gigaton \\ncannot be used to measure Walmart’s Scope 3 emissions, either absolutely or in year-over-year reductions.\\n29 Calculated in accordance with Walmart’s Project Gigaton Accounting Methodology, available on \\nthe Walmart Sustainability Hub. Suppliers submit information during a Project Gigaton reporting season; \\nfigures reported are for the reporting season that took place during the corresponding fiscal year. Because \\nWalmart does not restrict suppliers to reporting only on emissions avoidance and reduction efforts that are \\nattributable to the suppliers’ business with Walmart, actions taken and reported through Project Gigaton \\ncannot be used to measure Walmart’s Scope 3 emissions, either absolutely or in year-over-year reductions.\\n30 Based on review of material handling and waste diversion processes, as reported by waste vendors, \\nfood banks, and stores. In cases where certified or otherwise documented weights were not available due \\nto industry challenges, they have been estimated based on waste audits, historical data, extrapolation for \\nsimilar facilities in size and scope, etc. \\nWalmart’s operational food waste reduction goal is aligned with Target 12.3 of the United Nations \\nSustainable Development Goal (SDG). Progress towards food loss and waste reduction goal measured in \\nconformance with the Food Loss and Waste Protocol’s Food Loss and Waste Accounting Standard (FLW \\nStandard) for quantifying food and/or associated inedible parts removed from the food supply chain. This \\nfigure is based on review of material handling and waste diversion processes, as reported by waste vendors, \\nfood banks and stores. In cases where certified or otherwise documented weights were not available due \\nto industry challenges, they have been estimated based on waste audits, historical data, extrapolation for \\nsimilar facilities in size and scope, etc. The 2016 baseline was adjusted to remove markets (Argentina, Japan, \\nU.K.) that have since been divested; reported reduction is as against this adjusted baseline. \\n31 For the time frame of the private brands packaging survey, we instructed suppliers to use their \\nlatest or most recent 12-month period for which they have data available. If they reported last year, use \\nthe same reporting period as the initial/prior reporting year to avoid gaps or overlap with the prior year’s \\nsubmissions. For suppliers that did not complete the survey or provided unusable data, proxy data was \\nsubstituted to provide a full estimate of global private brand packaging. For the proxy calculation, a market \\nlevel approach was used.\\n32 Based on review of material handling and waste diversion processes, as reported by waste vendors, \\nfood banks, and stores. In cases where certified or otherwise documented weights were not available due \\nto industry challenges, they have been estimated based on waste audits, historical data, extrapolation for \\nsimilar facilities in size and scope, etc. Original goal covered U.S., Canada, Japan, and the U.K., and now \\nincludes Mexico. Walmart divested its retail operations in the U.K. and Japan in February and March of 2021, \\nrespectively.\\n33 Where a facility is required to be disclosed to Walmart, “Active” status denotes that the supplier can \\nuse the facility for Walmart production.34 Facility color ratings denote the seriousness of findings identified in the audits. \\n35 Results are limited to net sales of Walmart and Sam’s Club direct suppliers and do not include data \\nfrom “spot buy” or “direct store delivery” suppliers. Direct suppliers represent 90% of Walmart U.S. net \\nsales of the relevant department, and 89% of the Sam’s Club U.S. net sales of the relevant department. The \\nU.S. product net sales figure used for the calculation includes Walmart U.S. and Sam’s Club product net \\nsales for the previous four quarters (Q3 through Q2) prior to the start of the survey reporting window. The \\npercentage represents U.S. product net sales of suppliers that reported to Ethical Charter in the reporting \\nyear versus all U.S. product net sales. The calculation excludes Walmart International segment product net \\nsales from the calculation.\\n36 Based on reports from Feeding America\\n37 Based on reports from Feeding America.\\n38 Total cash and in-kind donations includes combined philanthropic efforts of Walmart and the \\nWalmart Foundation.\\n39 Walmart measures its chemical footprint in terms of priority chemicals, or PCs based on supplier \\nreports collected through UL WERCSmart for in-scope products sold. Walmart references regulatory \\nand authoritative lists to determine priority chemicals. These lists can be found at https:/ /www.\\nwalmartsustainabilityhub.com/sustainable-chemistry/implementation-guide/appendices. Our footprint \\ncovers in-scope formulated consumables products within beauty, personal care, baby, pet, and household \\ncleaning products sold by Walmart U.S. stores and Sam’s Clubs in the U.S. In any given year, an increase or \\ndecrease in UPC volume weight disclosures may impact reporting. To learn about formulation disclosure, \\nplease visit Section 2: Transparency of our Sustainable Chemistry Implementation Guide.\\n40 Metrics presented correspond with information reported in Walmart’s Annual Proxy Statements for \\nthe stated years; director metrics are based on nominees for election at the Annual Shareholders’ Meeting \\nfor each year.\\n41 Metrics presented correspond with information reported in Walmart’s Annual Proxy Statements for \\nthe stated years; director metrics are based on nominees for election at the Annual Shareholders’ Meeting \\nfor each year.\\n42 Walmart is a member of the Alliance for Connected Care and the American Telemedicine \\nAssociation; we also are a member of the Consumer Technology Association. FY2023  \\nESG Highlights 42 Opportunity Introduction Sustainability Community Ethics & Integrity\\n',\n",
       " 'Contact Us\\nAdditional information about Walmart can be found by visiting us at \\ncorporate.walmart.com , on LinkedIn , and on Twitter .\\nYour feedback is important to us. Email us at  \\nESG_WMT@walmart.com .FY2023  \\nESG Highlights 43 Opportunity Introduction Sustainability Community Ethics & Integrity\\n']"
      ]
     },
     "execution_count": 142,
     "metadata": {},
     "output_type": "execute_result"
    }
   ],
   "source": [
    "docs_pages[\"fy2023-walmart-esg-highlights.pdf\"]"
   ]
  },
  {
   "cell_type": "code",
   "execution_count": 112,
   "id": "4deaadaf",
   "metadata": {},
   "outputs": [
    {
     "name": "stdout",
     "output_type": "stream",
     "text": [
      "Token count: 969082\n"
     ]
    }
   ],
   "source": [
    "# Create database\n",
    "text_splitter = RecursiveCharacterTextSplitter(chunk_size=3000, chunk_overlap=300, separators=[\"\\n\\n\", \"\\n\"])\n",
    "\n",
    "# split documents and create vector database\n",
    "texts = text_splitter.split_documents(documents)\n",
    "embeddings = OpenAIEmbeddings(model=\"text-embedding-3-large\", api_key=os.environ[\"OPEN_API_KEY\"])  # https://platform.openai.com/docs/guides/embeddings/embedding-models\n",
    "db = FAISS.from_documents(texts, embeddings)\n",
    "\n",
    "# count build embedding token number\n",
    "tokenizer = tiktoken.get_encoding(\"cl100k_base\")\n",
    "build_token_count = sum([len(tokenizer.encode(doc.page_content)) for doc in texts])\n",
    "print(f\"Token count: {build_token_count}\")"
   ]
  },
  {
   "cell_type": "code",
   "execution_count": 113,
   "id": "fba814c7f46c5b0e",
   "metadata": {},
   "outputs": [],
   "source": [
    "# Store the database\n",
    "with open(DB_PATH, \"wb\") as f:\n",
    "    pickle.dump(db.serialize_to_bytes(), f)"
   ]
  },
  {
   "cell_type": "markdown",
   "id": "c2816a3db31f23fa",
   "metadata": {},
   "source": [
    "## Create simple RAG"
   ]
  },
  {
   "cell_type": "code",
   "execution_count": 114,
   "id": "58dd89c06d4a0a43",
   "metadata": {},
   "outputs": [],
   "source": [
    "# Load the database\n",
    "DB_PATH = \"data/db/sample.db\"\n",
    "\n",
    "with open(DB_PATH, \"rb\") as f:\n",
    "    db_bytes = pickle.load(f)\n",
    "    db = FAISS.deserialize_from_bytes(db_bytes, embeddings, allow_dangerous_deserialization=True)"
   ]
  },
  {
   "cell_type": "code",
   "execution_count": 115,
   "id": "6e865a41",
   "metadata": {},
   "outputs": [],
   "source": [
    "MODEL = \"gpt-4o-mini\""
   ]
  },
  {
   "cell_type": "code",
   "execution_count": 120,
   "id": "ea269a7277b80cdd",
   "metadata": {
    "ExecuteTime": {
     "end_time": "2024-10-18T08:57:54.879740Z",
     "start_time": "2024-10-18T08:57:54.176727Z"
    }
   },
   "outputs": [],
   "source": [
    "# Load the LLM\n",
    "llm = ChatOpenAI(model_name=MODEL, temperature=0, api_key=os.environ[\"OPEN_API_KEY\"])  # for deterministic outputs\n",
    "\n",
    "system_prompt = \"\"\"\n",
    "You are an expert assistant evaluating ESG reports of major companies based on the SDGs. \n",
    "Your job is to evaluate the companies achievements regarding the SDG goal given and the company name and given year. \n",
    "If the company does not mention anything say \"I don't know\". \n",
    "Otherwise give it a score of 1-10 and support your claim with snippets of the report where the evidence of suporting the goal is seen.\n",
    "Also say the year this information is from.\n",
    "Context: {context}\n",
    "Question: {question}\n",
    "\"\"\"\n",
    "\n",
    "prompt_template = PromptTemplate(\n",
    "    input_variables=[\"context\", \"question\"], \n",
    "    template=system_prompt\n",
    ")\n",
    "\n",
    "retrieval_chain = RetrievalQA.from_chain_type(\n",
    "    llm=llm,\n",
    "    retriever=db.as_retriever(),\n",
    "    return_source_documents=True,\n",
    "    chain_type_kwargs={\"prompt\": prompt_template}\n",
    ")"
   ]
  },
  {
   "cell_type": "code",
   "execution_count": 100,
   "id": "f822aca82b51ffa7",
   "metadata": {
    "ExecuteTime": {
     "end_time": "2024-10-18T08:57:55.486968Z",
     "start_time": "2024-10-18T08:57:55.479646Z"
    }
   },
   "outputs": [],
   "source": [
    "def ask_question(query):\n",
    "    response = retrieval_chain({\"query\": query})\n",
    "    print(f\"Question: {query}\\nAnswer: {response['result']}\")\n",
    "    return response"
   ]
  },
  {
   "cell_type": "code",
   "execution_count": 121,
   "id": "24c7f148",
   "metadata": {},
   "outputs": [
    {
     "name": "stdout",
     "output_type": "stream",
     "text": [
      "Question: How does Walmart perform in the 12th SDG on sustainable consumption an production in 2019?\n",
      "Answer: Walmart's performance regarding the 12th Sustainable Development Goal (SDG 12) on sustainable consumption and production in 2019 can be evaluated as follows:\n",
      "\n",
      "**Score: 8/10**\n",
      "\n",
      "**Supporting Evidence:**\n",
      "1. **Sustainable Supply Chain Initiatives:** Walmart has committed to sourcing at least 20 key commodities more sustainably by 2025. This includes fresh produce, animal agriculture, seafood, and consumables. The report states, \"We have prioritized the 20x25 commodities based upon a variety of factors, including the nature and magnitude of environmental and social improvement opportunities.\"\n",
      "\n",
      "2. **Sustainability Index Participation:** As of the end of FY2019, Walmart achieved a supplier participation rate in the Sustainability Index that covers 80% of the goods sold in U.S. Walmart stores and Sam’s Club locations for categories where the Index is available. This indicates a strong commitment to improving sustainability across its supply chain.\n",
      "\n",
      "3. **Waste Reduction Goals:** Walmart has set a goal to achieve zero waste to landfill from its operations in key markets, including the U.S., U.K., Japan, and Canada by 2025. The report mentions, \"Achieve zero waste to landfill from our own operations in key markets... by 2025 in accordance with the Zero Waste International Alliance guidelines.\"\n",
      "\n",
      "4. **Packaging Initiatives:** Walmart has committed to work with its U.S. private-brand suppliers to achieve 100% recyclable, reusable, or industrially compostable packaging in all Walmart private-brand products by 2025. This is a significant step towards sustainable consumption and production.\n",
      "\n",
      "Overall, Walmart demonstrates a strong commitment to sustainable consumption and production through its various initiatives and goals, particularly in supply chain sustainability and waste reduction. The information is from the year 2019.\n"
     ]
    },
    {
     "data": {
      "text/plain": [
       "{'query': 'How does Walmart perform in the 12th SDG on sustainable consumption an production in 2019?',\n",
       " 'result': 'Walmart\\'s performance regarding the 12th Sustainable Development Goal (SDG 12) on sustainable consumption and production in 2019 can be evaluated as follows:\\n\\n**Score: 8/10**\\n\\n**Supporting Evidence:**\\n1. **Sustainable Supply Chain Initiatives:** Walmart has committed to sourcing at least 20 key commodities more sustainably by 2025. This includes fresh produce, animal agriculture, seafood, and consumables. The report states, \"We have prioritized the 20x25 commodities based upon a variety of factors, including the nature and magnitude of environmental and social improvement opportunities.\"\\n\\n2. **Sustainability Index Participation:** As of the end of FY2019, Walmart achieved a supplier participation rate in the Sustainability Index that covers 80% of the goods sold in U.S. Walmart stores and Sam’s Club locations for categories where the Index is available. This indicates a strong commitment to improving sustainability across its supply chain.\\n\\n3. **Waste Reduction Goals:** Walmart has set a goal to achieve zero waste to landfill from its operations in key markets, including the U.S., U.K., Japan, and Canada by 2025. The report mentions, \"Achieve zero waste to landfill from our own operations in key markets... by 2025 in accordance with the Zero Waste International Alliance guidelines.\"\\n\\n4. **Packaging Initiatives:** Walmart has committed to work with its U.S. private-brand suppliers to achieve 100% recyclable, reusable, or industrially compostable packaging in all Walmart private-brand products by 2025. This is a significant step towards sustainable consumption and production.\\n\\nOverall, Walmart demonstrates a strong commitment to sustainable consumption and production through its various initiatives and goals, particularly in supply chain sustainability and waste reduction. The information is from the year 2019.',\n",
       " 'source_documents': [Document(metadata={'source': 'walmart-2019-esg-report.pdf'}, page_content='footprint for stores and clubs \\nBaseline established\\n>189 million pounds (lbs.) for Walmart U.S.\\n>31 million lbs. for Sam’s Club Progress to be reported\\nGoal: In 2016, Walmart and the Walmart \\nFoundation committed to invest $25 \\nmillion in projects to advance food safety \\nin China over five yearsAmount invested in projects to date >$15 million \\nGoal: In 2014, Walmart and the Walmart \\nFoundation set a goal to provide nutrition \\neducation to 4 million people by 2020Estimated impact of grants awarded >4 million people  \\nGoal: Between 2014 and 2019, provide  \\n4 billion meals to those who need them \\nthrough grants from Walmart and the \\nWalmart Foundation and food donations \\nfrom Walmart stores, Sam’s Club locations \\nand distribution centersImpact of grants awarded, based upon grantee reports >4 billion meals \\nCommunities \\nGoal: Offer a job at Walmart or Sam’s \\nClub locations to any eligible honorably \\ndischarged U.S. veteran who has been \\ndischarged since Memorial Day 2013. \\nCommit to hire 250,000 veterans by 2023.Number of veterans hired 219,500 \\nNumber of veterans promoted 33,405 \\nLocal grants Local grants made by stores, clubs, other facilities in the U.S. >$42 million \\nAssociate giving U.S. associate hours volunteered >776,500 \\nAmount donated to match volunteerism, U.S. >$7.6 million  PRIORITIES  \\n(GOALS NOTED AND ITALICIZED)METRIC RESULTS*\\n*All results are as of the end of FY2019 unless otherwise noted\\n89\\nThe United Nations Sustainable Development Goals\\nWe acknowledge the importance of the United \\nNations Sustainable Development Goals (SDGs), \\nwhich aim to make significant progress on global \\neconomic, social and environmental challenges  \\nby 2030.  \\nThe following eight goals represent those most \\nrelevant to Walmart’s ESG initiatives.\\nEnvironmental SocialZero hunger\\nGender equality\\nAffordable and \\nclean energyDecent work and \\neconomic growth\\nSustainable cities \\nand communities\\nClimate actionLife below water\\nLife on land\\nClimate change \\n Responsible supply \\nchains\\nWaste\\nRetail opportunity\\n Responsible supply chains\\nInclusive sourcing\\n Safer & healthier food and other products\\n90\\n1The Science Based Targets initiative (SBTi) is a collaboration between CDP, the United Nations Global Compact (UNGC), the World Resources Institute (WRI) and the World Wildlife Fund (WWF), and is one of the We Mean \\nBusiness Coalition commitments. The SBTi validated Walmart’s greenhouse gas emissions reduction target as science-based in November 2016, indicating that the target is in line with the level of decarbonization required to keep \\nglobal temperature increase below 2° C compared with pre-industrial temperatures.\\n2Based upon total average Index scores achieved by participating suppliers in categories where the Index is available in calendar year 2018 as compared to 2016.'),\n",
       "  Document(metadata={'source': 'walmart-2019-esg-report.pdf'}, page_content='lasting improvement across product supply chains \\nthrough collaborative efforts with suppliers, NGOs \\nand others. \\nWalmart encourages suppliers to report through \\nthe Sustainability Index , a science-based, third-\\nparty tool developed by The Sustainability \\nConsortium in collaboration with universities, \\nNGOs and suppliers. The Index includes data from \\nsuppliers on key environmental, social and other performance indicators at the category level.  \\nThe Index reflects responses from more than \\n1,500 unique suppliers covering 115 categories and \\ndepartments across Walmart U.S. and Sam’s  \\nClub U.S. \\nWe set a goal in 2012 to buy 70%\\xa0of our U.S.  \\ngoods from suppliers that participate in the Index  \\n(in categories covered by the Index). We met that \\ngoal in 2017, and in 2018, more than 80%\\xa0of such \\ngoods came from participating suppliers. Walmart \\nand Sam’s Club U.S. suppliers have improved  \\ntheir Sustainability Index scores by 28% compared \\nwith 2016.20 Policies & resources\\nWalmart Sustainability Hub  \\uf35d\\nThe Sustainability Index  \\uf35d\\nCorporate policies   \\uf35d\\n27\\n20x25\\n20x25 means we aspire to source at least 20\\xa0key \\ncommodities more sustainably by 2025, across  \\nthe following: \\n• Fresh produce\\n• Animal agriculture\\n• Seafood\\n• Specialty commodities such as coffee,  \\ntea and cocoa\\n• Row crops\\n• Consumables, such as personal care products\\n• Apparel/textiles\\nWe have prioritized the 20x25 commodities based \\nupon a variety of factors, including the nature and \\nmagnitude of environmental and social improvement \\nopportunities (as informed by Sustainability Index \\ndata and feedback from stakeholders); business \\nopportunity and risk (e.g., sales, supply security, cost \\nissues or reputation risk); and Walmart’s ability to \\nconvene suppliers and others to promote change.  \\nIn each case, we are working with suppliers, NGOs \\nand others to understand the current state and  \\npursue initiatives to advance environmental and/or \\nsocial indicators.  \\nThe Index is one of several tools we use to help us \\nmake progress on 20x25. As an example, the chart \\nto the right illustrates the category scorecard for \\nconsumables suppliers. A Walmart buyer can use this \\nscorecard to identify improvement opportunities for \\nindividual suppliers and spotlight issues for category-\\nwide initiatives, such as sustainable chemistry and \\npackaging design.Illustrative example of how we use the Sustainability Index: \\nConsumables, health & wellness — top 10 supplier  \\ncategory scorecard\\nPRIORITY CHEMICALS PACKAGING DEFORESTATION INDEXDisclosure\\nChemicals  \\nmanagement  \\nprogram\\nIngredient  \\nevaluations\\nSustainable  \\ndesign\\nRaw material–  \\nend of life\\nHow2Recycle  \\nLabel (Y/N)\\nFiber sourcing  \\ncertification\\nPalm oil  \\nsourcing\\nParticipation\\nSupplier A Y\\nSupplier B N\\nSupplier C Y N/A\\nSupplier D N\\nSupplier E N/A Y N/A\\nSupplier F Y\\nSupplier G N/A Y N/A\\nSupplier H N N/A\\nSupplier I Y\\nSupplier J N\\n28\\nPRODUCT \\nCATEGORIESWORKING  \\nCONDITIONSENVIRONMENTSAFER & HEALTHIER \\nPRODUCTSTRANSPARENCY'),\n",
       "  Document(metadata={'source': 'walmart-2019-esg-report.pdf'}, page_content='effectiveness of the products and services we offer, \\nand the initiatives we support. STAKEHOLDERS & THEIR ESG PRIORITIES\\nAssociates• Job stability and mobility, including wages, \\nbenefits, training and promotions\\n• Inclusive workplace• Community: local giving, hunger \\nand disaster relief\\nCustomer• Everyday low price: affordable food and \\nproducts\\n• Associate training, wages and benefits\\n• Healthy, environmentally friendly \\nproducts• Local sourcing and responsible \\nsourcing\\n• Community: hunger, disaster relief \\nand veterans\\n• Transparency\\nSuppliers• Growing their business \\n• Understanding Walmart’s standards\\n• Responsible sourcing\\n• Emissions, deforestation, water and waste• Packaging\\n• Safer and healthier products\\n• Opportunity for diverse suppliers\\nCommunities• Local economic impact: taxes, jobs, \\nsourcing and affordable products\\n• Support for local organizations\\n• Disaster response and resilience• Food security\\n• Emissions, waste and natural capital\\nShareholders & ESG \\nresearch analysts• Enterprise strategy and long-term  \\nstock performance\\n• Environment: climate and waste\\n• Social: associate training and wages, \\nresponsible sourcing• Governance: ethics and compliance, \\nand executive compensation\\n• Regulatory and trade environment\\nNGOs, grantees & \\nadvisory councils• Issues vary by group\\n• Associate opportunity\\n• Inclusion\\n• Emissions, waste and natural capital• Responsible sourcing\\n• Disaster response and resilience\\n• Hunger relief\\n• Plastic wasteStakeholder engagement \\n16\\nEnvironmental\\n17\\nEnvironmental highlights \\nWalmart and Sam’s  \\nClub U.S. suppliers \\nhave improved their \\nSustainability Index  \\nscores by  \\n28%   \\ncompared to 20162\\n6.1%  \\nreduction in Scopes 1 \\nand 2 annual greenhouse \\ngas emissions in 2017 \\ncompared with 20153\\n78%  \\nof waste diverted from \\nlandfills and incineration4As of the end of  \\nFY2019, we achieved  \\na supplier participation \\nrate in the Sustainability \\nIndex that covers  \\n80%  \\nof the goods we sell  \\nin U.S. Walmart stores \\nand Sam’s Club locations \\nfor categories where  \\nthe Sustainability Index  \\nis available \\nAn estimated  \\n28%  \\nof electricity from \\nrenewable sources5\\n18\\nOur environmental goals\\nPRIORITIES MAJOR PUBLIC GOALS\\nClimate changeAchieve an 18% emissions reduction in our own operations by 2025, compared to a 2015 baseline. \\nBy 2030, work with suppliers to reduce or avoid carbon dioxide equivalent (CO2e) emissions from Scope 3 by 1 gigaton from global value chains. \\nBe powered by 50% renewable sources by 2025. \\nIn FY2017, Walmart and the Walmart Foundation pledged $25 million in cash and in-kind donations to support disaster preparedness and relief  \\nthrough 2020. \\nSustainable supply chain More sustainably source 20 key commodities by 2025.\\nWasteAchieve zero waste6 to landfill from our own operations in key markets, including the U.S., U.K., Japan and Canada by 2025 in accordance with the Zero \\nWaste International Alliance guidelines.'),\n",
       "  Document(metadata={'source': 'walmart-2019-esg-report.pdf'}, page_content='through 2020. \\nSustainable supply chain More sustainably source 20 key commodities by 2025.\\nWasteAchieve zero waste6 to landfill from our own operations in key markets, including the U.S., U.K., Japan and Canada by 2025 in accordance with the Zero \\nWaste International Alliance guidelines.\\nAs of February 2019, we have committed to work with our U.S. private-brand suppliers to: \\n•  Achieve 100% recyclable, reusable or industrially compostable packaging in all Walmart private-brand products by 2025.\\n•  Target at least 20% post-consumer recycled content in private-brand packaging by 2025.\\n•  Label 100% of food and consumable private-brand packaging with the How2Recycle® label by 2022.\\nFor more details about our progress on these environmental goals please read further and refer to the ESG commitments & progress chart  in the back of this report.\\n19\\nClimate change\\nPolicies & resources\\nEnvironmental sustainability statement  \\uf35d \\nDeforestation policy  \\uf35d\\nWalmart Sustainability Hub   \\uf35d\\nCorporate policies  \\uf35dQUICK FACTS \\nFirst retailer to announce a science-\\nbased target to reduce greenhouse \\ngases in alignment with the  \\nParis Agreement \\nA- on 2018 CDP climate change \\ndisclosure \\n6.1% reduction in Scopes 1 and 2 annual \\ngreenhouse gas emissions in 2017 \\ncompared with 20157\\nCarbon intensity8 (Scopes 1 and 2  \\nper revenue): 37.3 metric tons (MT)  \\nCO2e/$1 million in FY2018, a decrease  \\nof 7.2% from FY20179\\nElectric vehicle chargers available at 110 \\nretail locations across 29 states Under Project GigatonTM, we aim to \\nwork with suppliers to avoid 1 billion \\nmetric tons of greenhouse gases from \\nthe global value chain by 2030  \\n(Scope 3) \\nTo date, more than 1,000 suppliers have \\nformally signed on to Project Gigaton \\nIn 2018 alone, more than 380 suppliers \\nreported avoided CO2e emissions \\ntotaling 58,904,206 MT10\\nIn the first two years of Project Gigaton, \\nsuppliers reported avoided CO2e \\nemissions totaling 93,656,639 MT11\\n20\\nAccording to the Intergovernmental Panel \\non Climate Change (IPCC) , human-caused \\ngreenhouse gas (GHG) emissions are the leading \\ncontributor to rising global temperatures and \\nother signs of climate change. To avoid the worst \\neffects of climate change, the Paris Agreement \\ncalls for collective action across society to limit \\nglobal temperature increases to between 1.5\\xa0and \\n2\\xa0degrees Celsius. \\nAt Walmart, we are focused on reducing emissions \\nin our operations, engaging suppliers to reduce \\nemissions in supply chains, strengthening the \\nresilience of our business and using our voice to \\nadvocate for collective action.\\nClimate change impact  \\nscenario analysis\\nTo better understand the nature of climate change \\nand potential implications for the retail sector, we \\nconducted a climate scenario analysis, working with \\nan independent third-party consultant; we aimed \\nto align with the scenario guidance set forth by  \\nthe Task Force on Climate-related Financial \\nDisclosures (TCFD). \\nThe analysis considered two scenarios for global')]}"
      ]
     },
     "execution_count": 121,
     "metadata": {},
     "output_type": "execute_result"
    }
   ],
   "source": [
    "ask_question(\"How does Walmart perform in the 12th SDG on sustainable consumption an production in 2019?\")"
   ]
  },
  {
   "cell_type": "code",
   "execution_count": 122,
   "id": "42dd8020",
   "metadata": {},
   "outputs": [
    {
     "name": "stdout",
     "output_type": "stream",
     "text": [
      "Question: How does Walmart perform in the 12th SDG on sustainable consumption an production in 2023?\n",
      "Answer: I don't know.\n"
     ]
    },
    {
     "data": {
      "text/plain": [
       "{'query': 'How does Walmart perform in the 12th SDG on sustainable consumption an production in 2023?',\n",
       " 'result': \"I don't know.\",\n",
       " 'source_documents': [Document(metadata={'source': 'walmart-2019-esg-report.pdf'}, page_content='footprint for stores and clubs \\nBaseline established\\n>189 million pounds (lbs.) for Walmart U.S.\\n>31 million lbs. for Sam’s Club Progress to be reported\\nGoal: In 2016, Walmart and the Walmart \\nFoundation committed to invest $25 \\nmillion in projects to advance food safety \\nin China over five yearsAmount invested in projects to date >$15 million \\nGoal: In 2014, Walmart and the Walmart \\nFoundation set a goal to provide nutrition \\neducation to 4 million people by 2020Estimated impact of grants awarded >4 million people  \\nGoal: Between 2014 and 2019, provide  \\n4 billion meals to those who need them \\nthrough grants from Walmart and the \\nWalmart Foundation and food donations \\nfrom Walmart stores, Sam’s Club locations \\nand distribution centersImpact of grants awarded, based upon grantee reports >4 billion meals \\nCommunities \\nGoal: Offer a job at Walmart or Sam’s \\nClub locations to any eligible honorably \\ndischarged U.S. veteran who has been \\ndischarged since Memorial Day 2013. \\nCommit to hire 250,000 veterans by 2023.Number of veterans hired 219,500 \\nNumber of veterans promoted 33,405 \\nLocal grants Local grants made by stores, clubs, other facilities in the U.S. >$42 million \\nAssociate giving U.S. associate hours volunteered >776,500 \\nAmount donated to match volunteerism, U.S. >$7.6 million  PRIORITIES  \\n(GOALS NOTED AND ITALICIZED)METRIC RESULTS*\\n*All results are as of the end of FY2019 unless otherwise noted\\n89\\nThe United Nations Sustainable Development Goals\\nWe acknowledge the importance of the United \\nNations Sustainable Development Goals (SDGs), \\nwhich aim to make significant progress on global \\neconomic, social and environmental challenges  \\nby 2030.  \\nThe following eight goals represent those most \\nrelevant to Walmart’s ESG initiatives.\\nEnvironmental SocialZero hunger\\nGender equality\\nAffordable and \\nclean energyDecent work and \\neconomic growth\\nSustainable cities \\nand communities\\nClimate actionLife below water\\nLife on land\\nClimate change \\n Responsible supply \\nchains\\nWaste\\nRetail opportunity\\n Responsible supply chains\\nInclusive sourcing\\n Safer & healthier food and other products\\n90\\n1The Science Based Targets initiative (SBTi) is a collaboration between CDP, the United Nations Global Compact (UNGC), the World Resources Institute (WRI) and the World Wildlife Fund (WWF), and is one of the We Mean \\nBusiness Coalition commitments. The SBTi validated Walmart’s greenhouse gas emissions reduction target as science-based in November 2016, indicating that the target is in line with the level of decarbonization required to keep \\nglobal temperature increase below 2° C compared with pre-industrial temperatures.\\n2Based upon total average Index scores achieved by participating suppliers in categories where the Index is available in calendar year 2018 as compared to 2016.'),\n",
       "  Document(metadata={'source': 'walmart-2019-esg-report.pdf'}, page_content='through 2020. \\nSustainable supply chain More sustainably source 20 key commodities by 2025.\\nWasteAchieve zero waste6 to landfill from our own operations in key markets, including the U.S., U.K., Japan and Canada by 2025 in accordance with the Zero \\nWaste International Alliance guidelines.\\nAs of February 2019, we have committed to work with our U.S. private-brand suppliers to: \\n•  Achieve 100% recyclable, reusable or industrially compostable packaging in all Walmart private-brand products by 2025.\\n•  Target at least 20% post-consumer recycled content in private-brand packaging by 2025.\\n•  Label 100% of food and consumable private-brand packaging with the How2Recycle® label by 2022.\\nFor more details about our progress on these environmental goals please read further and refer to the ESG commitments & progress chart  in the back of this report.\\n19\\nClimate change\\nPolicies & resources\\nEnvironmental sustainability statement  \\uf35d \\nDeforestation policy  \\uf35d\\nWalmart Sustainability Hub   \\uf35d\\nCorporate policies  \\uf35dQUICK FACTS \\nFirst retailer to announce a science-\\nbased target to reduce greenhouse \\ngases in alignment with the  \\nParis Agreement \\nA- on 2018 CDP climate change \\ndisclosure \\n6.1% reduction in Scopes 1 and 2 annual \\ngreenhouse gas emissions in 2017 \\ncompared with 20157\\nCarbon intensity8 (Scopes 1 and 2  \\nper revenue): 37.3 metric tons (MT)  \\nCO2e/$1 million in FY2018, a decrease  \\nof 7.2% from FY20179\\nElectric vehicle chargers available at 110 \\nretail locations across 29 states Under Project GigatonTM, we aim to \\nwork with suppliers to avoid 1 billion \\nmetric tons of greenhouse gases from \\nthe global value chain by 2030  \\n(Scope 3) \\nTo date, more than 1,000 suppliers have \\nformally signed on to Project Gigaton \\nIn 2018 alone, more than 380 suppliers \\nreported avoided CO2e emissions \\ntotaling 58,904,206 MT10\\nIn the first two years of Project Gigaton, \\nsuppliers reported avoided CO2e \\nemissions totaling 93,656,639 MT11\\n20\\nAccording to the Intergovernmental Panel \\non Climate Change (IPCC) , human-caused \\ngreenhouse gas (GHG) emissions are the leading \\ncontributor to rising global temperatures and \\nother signs of climate change. To avoid the worst \\neffects of climate change, the Paris Agreement \\ncalls for collective action across society to limit \\nglobal temperature increases to between 1.5\\xa0and \\n2\\xa0degrees Celsius. \\nAt Walmart, we are focused on reducing emissions \\nin our operations, engaging suppliers to reduce \\nemissions in supply chains, strengthening the \\nresilience of our business and using our voice to \\nadvocate for collective action.\\nClimate change impact  \\nscenario analysis\\nTo better understand the nature of climate change \\nand potential implications for the retail sector, we \\nconducted a climate scenario analysis, working with \\nan independent third-party consultant; we aimed \\nto align with the scenario guidance set forth by  \\nthe Task Force on Climate-related Financial \\nDisclosures (TCFD). \\nThe analysis considered two scenarios for global'),\n",
       "  Document(metadata={'source': 'walmart-2019-esg-report.pdf'}, page_content='effectiveness of the products and services we offer, \\nand the initiatives we support. STAKEHOLDERS & THEIR ESG PRIORITIES\\nAssociates• Job stability and mobility, including wages, \\nbenefits, training and promotions\\n• Inclusive workplace• Community: local giving, hunger \\nand disaster relief\\nCustomer• Everyday low price: affordable food and \\nproducts\\n• Associate training, wages and benefits\\n• Healthy, environmentally friendly \\nproducts• Local sourcing and responsible \\nsourcing\\n• Community: hunger, disaster relief \\nand veterans\\n• Transparency\\nSuppliers• Growing their business \\n• Understanding Walmart’s standards\\n• Responsible sourcing\\n• Emissions, deforestation, water and waste• Packaging\\n• Safer and healthier products\\n• Opportunity for diverse suppliers\\nCommunities• Local economic impact: taxes, jobs, \\nsourcing and affordable products\\n• Support for local organizations\\n• Disaster response and resilience• Food security\\n• Emissions, waste and natural capital\\nShareholders & ESG \\nresearch analysts• Enterprise strategy and long-term  \\nstock performance\\n• Environment: climate and waste\\n• Social: associate training and wages, \\nresponsible sourcing• Governance: ethics and compliance, \\nand executive compensation\\n• Regulatory and trade environment\\nNGOs, grantees & \\nadvisory councils• Issues vary by group\\n• Associate opportunity\\n• Inclusion\\n• Emissions, waste and natural capital• Responsible sourcing\\n• Disaster response and resilience\\n• Hunger relief\\n• Plastic wasteStakeholder engagement \\n16\\nEnvironmental\\n17\\nEnvironmental highlights \\nWalmart and Sam’s  \\nClub U.S. suppliers \\nhave improved their \\nSustainability Index  \\nscores by  \\n28%   \\ncompared to 20162\\n6.1%  \\nreduction in Scopes 1 \\nand 2 annual greenhouse \\ngas emissions in 2017 \\ncompared with 20153\\n78%  \\nof waste diverted from \\nlandfills and incineration4As of the end of  \\nFY2019, we achieved  \\na supplier participation \\nrate in the Sustainability \\nIndex that covers  \\n80%  \\nof the goods we sell  \\nin U.S. Walmart stores \\nand Sam’s Club locations \\nfor categories where  \\nthe Sustainability Index  \\nis available \\nAn estimated  \\n28%  \\nof electricity from \\nrenewable sources5\\n18\\nOur environmental goals\\nPRIORITIES MAJOR PUBLIC GOALS\\nClimate changeAchieve an 18% emissions reduction in our own operations by 2025, compared to a 2015 baseline. \\nBy 2030, work with suppliers to reduce or avoid carbon dioxide equivalent (CO2e) emissions from Scope 3 by 1 gigaton from global value chains. \\nBe powered by 50% renewable sources by 2025. \\nIn FY2017, Walmart and the Walmart Foundation pledged $25 million in cash and in-kind donations to support disaster preparedness and relief  \\nthrough 2020. \\nSustainable supply chain More sustainably source 20 key commodities by 2025.\\nWasteAchieve zero waste6 to landfill from our own operations in key markets, including the U.S., U.K., Japan and Canada by 2025 in accordance with the Zero \\nWaste International Alliance guidelines.'),\n",
       "  Document(metadata={'source': 'walmart-2019-esg-report.pdf'}, page_content='lasting improvement across product supply chains \\nthrough collaborative efforts with suppliers, NGOs \\nand others. \\nWalmart encourages suppliers to report through \\nthe Sustainability Index , a science-based, third-\\nparty tool developed by The Sustainability \\nConsortium in collaboration with universities, \\nNGOs and suppliers. The Index includes data from \\nsuppliers on key environmental, social and other performance indicators at the category level.  \\nThe Index reflects responses from more than \\n1,500 unique suppliers covering 115 categories and \\ndepartments across Walmart U.S. and Sam’s  \\nClub U.S. \\nWe set a goal in 2012 to buy 70%\\xa0of our U.S.  \\ngoods from suppliers that participate in the Index  \\n(in categories covered by the Index). We met that \\ngoal in 2017, and in 2018, more than 80%\\xa0of such \\ngoods came from participating suppliers. Walmart \\nand Sam’s Club U.S. suppliers have improved  \\ntheir Sustainability Index scores by 28% compared \\nwith 2016.20 Policies & resources\\nWalmart Sustainability Hub  \\uf35d\\nThe Sustainability Index  \\uf35d\\nCorporate policies   \\uf35d\\n27\\n20x25\\n20x25 means we aspire to source at least 20\\xa0key \\ncommodities more sustainably by 2025, across  \\nthe following: \\n• Fresh produce\\n• Animal agriculture\\n• Seafood\\n• Specialty commodities such as coffee,  \\ntea and cocoa\\n• Row crops\\n• Consumables, such as personal care products\\n• Apparel/textiles\\nWe have prioritized the 20x25 commodities based \\nupon a variety of factors, including the nature and \\nmagnitude of environmental and social improvement \\nopportunities (as informed by Sustainability Index \\ndata and feedback from stakeholders); business \\nopportunity and risk (e.g., sales, supply security, cost \\nissues or reputation risk); and Walmart’s ability to \\nconvene suppliers and others to promote change.  \\nIn each case, we are working with suppliers, NGOs \\nand others to understand the current state and  \\npursue initiatives to advance environmental and/or \\nsocial indicators.  \\nThe Index is one of several tools we use to help us \\nmake progress on 20x25. As an example, the chart \\nto the right illustrates the category scorecard for \\nconsumables suppliers. A Walmart buyer can use this \\nscorecard to identify improvement opportunities for \\nindividual suppliers and spotlight issues for category-\\nwide initiatives, such as sustainable chemistry and \\npackaging design.Illustrative example of how we use the Sustainability Index: \\nConsumables, health & wellness — top 10 supplier  \\ncategory scorecard\\nPRIORITY CHEMICALS PACKAGING DEFORESTATION INDEXDisclosure\\nChemicals  \\nmanagement  \\nprogram\\nIngredient  \\nevaluations\\nSustainable  \\ndesign\\nRaw material–  \\nend of life\\nHow2Recycle  \\nLabel (Y/N)\\nFiber sourcing  \\ncertification\\nPalm oil  \\nsourcing\\nParticipation\\nSupplier A Y\\nSupplier B N\\nSupplier C Y N/A\\nSupplier D N\\nSupplier E N/A Y N/A\\nSupplier F Y\\nSupplier G N/A Y N/A\\nSupplier H N N/A\\nSupplier I Y\\nSupplier J N\\n28\\nPRODUCT \\nCATEGORIESWORKING  \\nCONDITIONSENVIRONMENTSAFER & HEALTHIER \\nPRODUCTSTRANSPARENCY')]}"
      ]
     },
     "execution_count": 122,
     "metadata": {},
     "output_type": "execute_result"
    }
   ],
   "source": [
    "ask_question(\"How does Walmart perform in the 12th SDG on sustainable consumption an production in 2023?\")"
   ]
  },
  {
   "cell_type": "code",
   "execution_count": 123,
   "id": "7d05ecdc",
   "metadata": {},
   "outputs": [
    {
     "name": "stdout",
     "output_type": "stream",
     "text": [
      "Question: How does Apple perform in the 12th SDG on sustainable consumption an production in 2019?\n",
      "Answer: **Company:** Apple  \n",
      "**Year:** 2019  \n",
      "**SDG Goal:** 12 - Responsible Consumption and Production  \n",
      "\n",
      "**Score:** 8/10  \n",
      "\n",
      "**Evaluation:** Apple demonstrates significant achievements in promoting sustainable consumption and production, particularly through its initiatives aimed at reducing waste, increasing the use of recycled materials, and improving energy efficiency. \n",
      "\n",
      "**Supporting Evidence:**\n",
      "1. **Zero Waste Program:** Apple has implemented a Zero Waste Program for suppliers, which aims to divert 100% of waste from landfills. As of 2018, they achieved UL’s Zero Waste to Landfill certification for all final assembly facilities across various product lines. They have engaged 90 suppliers and diverted over 1 million metric tons of waste, which is a substantial contribution to responsible production practices. (Source: 2019 Environmental Responsibility Report)\n",
      "\n",
      "2. **Increased Use of Recycled Materials:** In 2022, Apple reported that 20% of the materials shipped in their products came from recycled sources, including various metals and plastics. This transition towards using recycled materials aligns with the goals of SDG 12 to ensure sustainable consumption and production patterns. (Source: 2022 Environmental Responsibility Report)\n",
      "\n",
      "3. **Reduction of Plastic in Packaging:** Apple has made significant progress in reducing plastic content in its packaging, decreasing it from 21% in 2015 to only 4% in 2022. This effort is part of their goal to eliminate plastics from packaging by 2025, which supports sustainable production practices. (Source: 2022 Environmental Responsibility Report)\n",
      "\n",
      "4. **Energy Efficiency Initiatives:** Apple has saved 41.5 million kilowatt-hours through energy efficiency initiatives at its global facilities, contributing to more sustainable production processes. (Source: 2019 Environmental Responsibility Report)\n",
      "\n",
      "Overall, Apple's initiatives reflect a strong commitment to responsible consumption and production, warranting a score of 8 out of 10.\n"
     ]
    },
    {
     "data": {
      "text/plain": [
       "{'query': 'How does Apple perform in the 12th SDG on sustainable consumption an production in 2019?',\n",
       " 'result': \"**Company:** Apple  \\n**Year:** 2019  \\n**SDG Goal:** 12 - Responsible Consumption and Production  \\n\\n**Score:** 8/10  \\n\\n**Evaluation:** Apple demonstrates significant achievements in promoting sustainable consumption and production, particularly through its initiatives aimed at reducing waste, increasing the use of recycled materials, and improving energy efficiency. \\n\\n**Supporting Evidence:**\\n1. **Zero Waste Program:** Apple has implemented a Zero Waste Program for suppliers, which aims to divert 100% of waste from landfills. As of 2018, they achieved UL’s Zero Waste to Landfill certification for all final assembly facilities across various product lines. They have engaged 90 suppliers and diverted over 1 million metric tons of waste, which is a substantial contribution to responsible production practices. (Source: 2019 Environmental Responsibility Report)\\n\\n2. **Increased Use of Recycled Materials:** In 2022, Apple reported that 20% of the materials shipped in their products came from recycled sources, including various metals and plastics. This transition towards using recycled materials aligns with the goals of SDG 12 to ensure sustainable consumption and production patterns. (Source: 2022 Environmental Responsibility Report)\\n\\n3. **Reduction of Plastic in Packaging:** Apple has made significant progress in reducing plastic content in its packaging, decreasing it from 21% in 2015 to only 4% in 2022. This effort is part of their goal to eliminate plastics from packaging by 2025, which supports sustainable production practices. (Source: 2022 Environmental Responsibility Report)\\n\\n4. **Energy Efficiency Initiatives:** Apple has saved 41.5 million kilowatt-hours through energy efficiency initiatives at its global facilities, contributing to more sustainable production processes. (Source: 2019 Environmental Responsibility Report)\\n\\nOverall, Apple's initiatives reflect a strong commitment to responsible consumption and production, warranting a score of 8 out of 10.\",\n",
       " 'source_documents': [Document(metadata={'source': 'Apple_Environmental_Progress_Report_2023.pdf'}, page_content='Report \\nhighlights\\xa0\\nCarbon neutral for \\ncorporate  emissions\\nSince April 2020, we’ve achieved \\ncarbon neutrality for our \\ncorporate emissions1 by sourcing \\n100 percent  renewable electricity \\nfor Apple facilities, implementing \\nenergy efficiency, and securing \\nhigh-quality carbon offsets for \\nremaining emissions.\\xa0While \\ncorporate emissions\\xa0represent \\nonly a small portion of our overall \\nemissions, this is an important \\nstep toward our broader goal of \\nachieving carbon neutrality for all \\nour products.\\nRead more on page 13 .\\nReduced value chain \\nemissions by over \\n45 percent \\xa0\\nWe reduced our overall emissions \\nacross scopes 1, 2, and 32 by \\nover 45 percent  compared \\nwith our 2015 baseline year. \\nWe avoided\\xa0over 28 million \\nmetric tons of emissions \\nthrough reduction initiatives like \\ntransitioning our supply chain to \\nrenewable electricity and sourcing \\nrecycled content for our products .\\nRead more on page 7 .Called on \\nApple suppliers \\nto decarbonize \\nIn October 2022, we urged \\nour worldwide supply chain \\nto decarbonize their entire \\nApple-related footprint\\xa0by \\n2030, including their scope 1 \\nand 2 emissions associated \\nwith Apple production. We also \\ncommunicated that progress \\ntoward these goals will be \\na crucial part of the criteria \\nwe consider when awarding \\nfuture  business.\\nRead more on  page 19 .\\nIncreased our use of \\nrecycled  materials\\nWe’re making progress toward \\nour goal of transitioning to \\n100 percent  recycled and \\nrenewable materials in our \\nproducts. In 2022, 20 percent  of \\nthe materials we shipped in Apple \\nproducts came from recycled \\nsources, including recycled \\naluminum, rare earth elements, \\ntin, cobalt, gold, tungsten, steel, \\nbrass, copper, and plastic.3\\nRead more on \\xa0page 34 .Introduced our \\ncomprehensive \\nwater  strategy\\nThis year, we’ve evolved our \\nexisting water stewardship \\nstrategy into a holistic, enterprise-\\nwide approach that addresses \\nwater availability, quality, and \\nequity. Our five-pillar approach \\nis grounded in understanding \\nthe local conditions of the \\nwatersheds in which we operate.\\nRead more on page 48 .Reduced\\xa0plastic \\ncontent in  packaging\\nIn 2022, plastics accounted \\nfor only 4 percent  of our \\npackaging\\xa0— down from \\n21 percent  in 2015\\xa0— marking \\nsignificant progress toward our \\ngoal to eliminate plastics from our \\npackaging by 2025.\\nRead more on page 39 .\\nDrove the creation of \\na new standard for \\ngreen  cleaners\\nIn 2022, Apple continued to serve \\nas chair of the Green Cleaners \\nfor Electronics Manufacturing \\ntask group — along with more \\nthan 20 industry partners — and \\nsubmitted the draft version of \\nIPC-1402, Standard for Green \\nCleaners Used in Electronics \\nManufacturing , for public review. \\nThis new standard will help \\nsuppliers across the electronics \\nsupply chain select cleaners \\nthat are safer for employees and \\nthe environment.\\nRead more on page 66 .Received the 2022 \\nImpact Award from \\nthe GC3\\nThe Green Chemistry & \\nCommerce Council awarded \\nApple the 2022 Impact Award for'),\n",
       "  Document(metadata={'source': 'Apple_Environmental_Responsibility_Report_2019.pdf'}, page_content='A zero waste program for our suppliers.\\nIn 2015, we launched a Zero Waste Program for suppliers, which provides them with onsite \\nsupport to recycle and reuse materials. The aim is to divert 100 percent of waste from  \\nlandfills. We provide tools and guidance, including the services of experts in sustainable  \\nwaste management.\\nInitially we prioritized suppliers with the most significant waste impact: final assembly facilities \\nwhere components from all over the world come together to be assembled into Apple \\nproducts. Our goal was to help these facilities drastically reduce the waste they send to landfill. \\nAnd in 2018, we achieved UL ’s Zero Waste to Landfill certification for all final assembly facilities \\nacross iPhone, iPad, Mac, Apple Watch, AirPods, and HomePod.25 This includes the Apple-\\noperated final assembly site in Cork, Ireland, which was the first Apple facility to receive the \\ndesignation from UL. \\nWe’ve since expanded our efforts further upstream in our supply chain to include sub-assembly \\nsuppliers. However, the deeper we go, the more complex the waste streams become. So we are \\nlooking for new technological innovations, exploring up-cycling techniques to reuse by-products, \\nand even reassessing manufacturing processes.\\nIn 2018, we diverted 375,000 metric tons of waste from landfills. And to date, we’ve engaged \\n90 suppliers and diverted more than 1 million metric tons of waste—enough to cover more than \\n4,000 soccer fields a meter deep.\\nWater Stewardship\\nProtecting Earth’s most  \\nprecious resource.\\nWater supports all life on Earth. And while water itself is plentiful, only a small fraction is \\navailable to those who need it. The scarcity of freshwater continues to increase, a trend \\nexacerbated by climate change. So we hold ourselves accountable for the water we use, \\nwhether at our corporate offices, data centers, distribution centers, and retail stores, or at our \\nsuppliers’ facilities around the globe.\\nHow we’re tackling our water footprint.\\nWater is necessary to operate our corporate facilities, including for cooling at our data centers. \\nAt our manufacturing facilities, suppliers use water for processes like etching, cutting, cleaning, \\nand cooling. So we work to conserve it and be smarter about the water we do use. We focus \\nboth on improving water use in our facilities and—through our Clean Water Program—helping \\nour suppliers conserve water and prevent water pollution. And we are engaging communities \\nwhere we operate and manufacture products to make sure shared water resources are \\nprotected and accessible. We’re proud of the progress we’ve made, but we know there’s still \\nwork to do.1 million metric tons\\nThrough our supplier Zero Waste \\nProgram, we’ve diverted enough \\nwaste to cover more than 4,000 \\nsoccer fields 1 meter deep.\\n2019 Environmental Responsibility Report   37 Introduction Climate Change Smarter Chemistry Resources Better Together'),\n",
       "  Document(metadata={'source': 'Apple_Environmental_Responsibility_Report_2019.pdf'}, page_content='Facilities Environmental  \\nPerformance Indicators \\nThe following table summarizes environmental performance indicators relating to Apple’s \\nglobal facilities, including our data centers, corporate offices, and over 500 retail stores, \\ntogether occupied by 132,000 Apple employees.1\\nNotes\\n¹ As reported in Apple’s Form 10-K Annual Report filed with the SEC for fiscal year 2018.\\n2  Starting in fiscal year 2016, Scope 1 Emissions capture diesel use in emergency back-up generators and \\npropane gas use in corporate offices. \\n3 Emissions from R&D processes.\\n4  The building operations and cooling emissions (PUE) associated with our colocated data facilities are beyond \\nour operational control and therefore these emissions are not included in our report.\\n5  In fiscal year 2017, we started calculating scope 3 emissions not listed above. In fiscal year 2018, these include \\nelectricity transmission and distribution losses (21,500 metric tons CO 2e) and lifecycle emissions associated \\nwith renewable energy (78,000 metric tons CO 2e).\\n6  We are constantly revisiting our methodology to hold ourselves to high accountability standards. So in fiscal \\nyear 2018, we changed how we calculate emissions from business travel in order to better account for classes \\nof service in air travel. As a result of this change, our scope 3 transportation emissions increased by 77 percent. \\nWithout the methodology change, these emissions would have increased by 14 percent, which reflects the \\ngrowth in our business.7   We adjusted our methodology for fiscal year 2017 to take into account Apple’s “At Home Advisors” program, \\nwhere employees work remotely. \\n8  Because energy efficiency measures have lasting benefits, energy efficiency savings are calculated cumulatively \\nsince 2011. All efficiency measures are retired based on their effective useful lifetime as documented by the \\nClaifornia Energy Commission. \\n9  We calculate our progress toward 100 percent renewable energy on a calendar year basis. Beginning January 1, \\n2018, 100 percent of the electricity we use to power our global facilities is sourced from renewable energy. \\n10  We have adjusted previous years’ avoided emissions to remove double counting biogas emissons.\\n11 Beginning in fiscal year 2017, “Data centers” includes water use at colocation facilities. \\n12  Beginning in fiscal year 2017, “Corporate” includes water use at Apple distribution centers.\\n13  Beginning in fiscal year 2017, we’re including waste from Apple’s distribution centers. Starting fiscal year 2018, \\nelectronic waste is reported under the “Recycled” figure.\\n14 Beginning in fiscal year 2017, waste processed in “Waste to energy” facilities is reported separately.\\n2019 Environmental Responsibility Report   56 Introduction Climate Change Smarter Chemistry Resources Better Together\\nProduct Environmental  \\nPerformance Indicators\\nThe following table summarizes the environmental performance indicators relating to'),\n",
       "  Document(metadata={'source': 'Apple_Environmental_Responsibility_Report_2019.pdf'}, page_content='44 Apple suppliers have committed to \\npower all of their Apple production with \\n100% renewable energy. With these \\npledges, we are on track to far exceed \\nour 2020 goal to bring 4 gigawatts of \\nnew clean energy into our supply chain.  \\nComponent reductions\\nIn the last year, we’ve reduced emissions \\nfrom aluminum in our products by 45%. \\n100% renewable energy\\nWe’re sourcing 100% renewable energy \\nfor all the electricity used at our facilities \\nin 43 countries around the world. Two-\\nthirds of this renewable energy comes \\nfrom Apple-created projects.  Product energy efficiency\\nIn 10 years, we’ve reduced average \\nproduct energy use by 70%.4\\nFacilities energy efficiency\\nWe saved 41.5 million kilowatt-hours  \\n(kWh) through energy efficiency \\ninitiatives at our global facilities.Highlights\\n2019 Environmental Responsibility Report   7 Introduction Climate Change Smarter Chemistry Resources Better Together')]}"
      ]
     },
     "execution_count": 123,
     "metadata": {},
     "output_type": "execute_result"
    }
   ],
   "source": [
    "ask_question(\"How does Apple perform in the 12th SDG on sustainable consumption an production in 2019?\")"
   ]
  },
  {
   "cell_type": "code",
   "execution_count": 124,
   "id": "5d94eaf1",
   "metadata": {},
   "outputs": [
    {
     "name": "stdout",
     "output_type": "stream",
     "text": [
      "Question: How does Apple perform in the 5th SDG on gender equality?\n",
      "Answer: I don't know.\n"
     ]
    },
    {
     "data": {
      "text/plain": [
       "{'query': 'How does Apple perform in the 5th SDG on gender equality?',\n",
       " 'result': \"I don't know.\",\n",
       " 'source_documents': [Document(metadata={'source': 'HM-Group-Sustainability-Disclosure-2021.pdf'}, page_content='—  Promoting diversity & equality . Together with \\nour brands, encourage inclusion and celebrate \\ndiversity and equality through products and communications. \\n—  Inclusion . Advance inclusion of people in the \\nsocieties we are part of through global and local \\ninitiatives.\\n—  Transparency . Clearly communicate our \\nstrategy and progress to create accountability, \\npushing us and others to do better. Our approach is informed by our Human Rights  \\nPolicy , Sustainability Commitment , and other \\nsocial policies .\\nProgress: internal diversity  \\n& equality\\n—  We set specific targets to improve diversity across our business. Brands and markets have set inclusion and diversity (I&D) commitments and action plans. We’re working to publicly disclose these plans and have extended the timeline — read more in Learnings .\\n—  We are developing and piloting a tool to  \\nhelp us better understand our inclusion, equity and diversity performance. Our goal is for the  \\ntool to help monitor our progress and inform future actions.\\n—  We’re building a network of internal I&D  \\nteams to engage colleagues and progress our \\n2025 ambitions:\\n  – W\\ne formed a central I&D team of colleagues \\nwith experience across business functions. The team reports to the Head of People and Organisational Development and supports  \\nour brands and functions with expertise to further embed and extend our groupwide  \\nI&D actions.  \\n  – N ewly formed I&D councils, networks  \\nand advisory groups at our brands, functions  \\nand markets are activating a localised approach to I&D. Our production function formed I&D peer committees to progress its new diversity targets, and our United States (US) market is developing colleague resource groups (CRGs) — groups of colleagues reflecting a specific dimension of diversity  \\n(but open to anyone) who help shape I&D strategy locally. CRGs are also being piloted  \\nin other parts of our business.\\n  – O\\nur new Colleague Peer Forum provides \\na Group-level platform for 40 colleagues from across our business to collaborate and feed back on I&D initiatives, including to the executive management team. \\n—  We updated our approach to talent  \\nacquisition to ensure we assess candidates  \\nfairly, mitigate bias and promote diversity.  For example, we make sure that we advertise jobs  \\non a range of platforms to target candidates  \\nwith different perspectives.\\n—  We disclosed demographic data  for Group \\noperations in the US.—  In 2021, 74% of H&M Group colleagues were \\nfemale and 71% of management positions were held by female colleagues (2020: 74%, 71%). Our board of directors had a 55%:45% (female:male) gender split (67%:33% in 2020).\\n1\\n—  According to our annual H&M Group colleague survey, People Engagement Pulses, 83% of respondents agree with the statement “I am treated with respect and dignity”, and 74% with the statement “Diverse perspective are valued at H&M Group”.\\n1) Includes dir ectors elected by AGM as well as employee representatives.'),\n",
       "  Document(metadata={'source': 'HM-Group-Sustainability-Disclosure-2021.pdf'}, page_content='Inclusion & diversity\\n— a human rights charity campaigning for \\nLGBTQIA+ people.\\n  – M\\nonki’s Head Office was re-certified by \\nRFSL , the Swedish Federation for Lesbian, Gay, \\nBisexual and Transgender Rights.\\n  – & Other Stories hosted a local artist takeover at \\nits US stores, showcasing different perspectives and experiences from the LGBTQIA+ community through art, and donated to the United Nations Free & Equal campaign.  \\nProgress: inclusion\\n—  We continued our work with the TENT  \\nPartnership for Refugees:\\n  – A\\ns part of our commitment to responsible \\nrecruitment of 2,000 refugees within our Turkey supply chain by 2025, 710 refugees were employed in our supply chain. The Covid-19 pandemic meant we continued to focus on supporting those already employed to keep their jobs, rather than on scaling the programme. \\n  – W\\ne joined the TENT initiative  providing \\nprofessional mentoring for refugee women in Europe to help them gain employment. We have committed to mentor 50 women across Germany, the Netherlands and Italy over a three-year period. Collectively, the TENT Partnership aims to mentor 1,250 refugee women during the period. \\n—  We continued a health and wellbeing project in Indonesia to empower women in our supply chain, in partnership with the United Nations Population  \\nFund  and others. The project currently reaches \\nmore than 45,000 workers with trainings on topics including reproductive health, malnutrition and gender-based violence. We aim to enrol  \\n100% of production factories by 2025.\\n—  In Indonesia, we took part in a workplace \\ninclusion project for workers with disabilities, together with Better Work and USAID Mitra Kunci .  \\n17 factories are currently enrolled, with the aim  \\nto cover 100% of our production factories  \\nby 2025.\\n—  H&M South Africa continued its partnership \\nwith Clothes to Good  (CTG), helping women —\\nparticularly mothers of children with  \\ndisabilities — out of poverty. CTG’s micro-business programme empowers 108 women to run successful clothing businesses in their communities. Women receive training on  \\nfinancial literacy and sales, as well as ongoing mentoring and support.Progress: supply chain inclusion \\n& diversity \\n— We launched our production supply chain \\nWomen’s Empowerment Strategy , developed in \\npartnership with Plan International in 2020. Our \\nambitions and supporting goals and KPIs focus on health & safety, career and development, representation and equal pay. T o further understand the situation for women in our supply chain and ensure impactful actions to increase skill levels of women and decrease gender pay gaps, we conducted a survey with over 700 tier 1 suppliers in Bangladesh, Indonesia, Mainland China and T urkey.\\n— We reward suppliers for increasing their ratio \\nof female supervisors through our supplier \\nrelationship management system. This year  \\nthis incentivised our suppliers in Bangladesh  \\nto increase the ratio of female supervisors  \\nfrom 6% to 10%.'),\n",
       "  Document(metadata={'source': 'HM-Group-Sustainability-Disclosure-2021.pdf'}, page_content='— We reward suppliers for increasing their ratio \\nof female supervisors through our supplier \\nrelationship management system. This year  \\nthis incentivised our suppliers in Bangladesh  \\nto increase the ratio of female supervisors  \\nfrom 6% to 10%.\\nNumber of workers in our tier 1 production supply chain in 2021\\n2020 FEMALE (%) 2021 FEMALE (%) 2021 FEMALE12021 MALE1\\nWorkers 63% 63% 677 ,000 398,000\\nSupervisors 24% 28% 18,000 46,000\\nWorker representatives 59% 62% 6,000 4,000\\n1)   T o the nearest thousand.\\nFAIR & EQUAL\\nHOW WE LEAD THE CHANGE\\nOUR APPROACH TO SUSTAINABILITY\\nCIRCULAR & CLIMATE POSITIVE\\nSUPPLY CHAIN MANAGEMENT\\nHOW WE REPORT\\nHIGHLIGHTS 2021\\nP.53  T RANSPARENT REPORTING SINCE 2002\\n— 10 supplier factories in India participated in  \\na programme to prevent sexual harassment run  \\nby Swasti , reaching 13,500 workers.\\n— 27 H&M Group supplier factories are enrolled in \\nthe GEAR project in Bangladesh, which promotes \\nfemale leadership. In 2021, 156 women workers were trained, contributing to 87 women workers being promoted.\\n— We continued to partner with the International \\nOrganization for Migration (IOM) on a country-\\nby-country approach to reducing risks of forced labour for migrant workers, as we work towards our goal of no recruitment fees in our supply chain by 2025. Our Migrant Workers Fair Recruitment and T reatment Guidelines and annual Modern Slavery Statement communicate our approach and progress. Also in 2021:\\n  – W\\ne ran internal and supplier training   \\nwith IOM and continued a joint project to improve inclusion of migrant workers in  \\nour supply chain.\\n  – Our lo\\ngistics function mapped our last-mile \\ndelivery operations to better understand the use of labour brokers and presence of vulnerable groups including migrant workers. We also continued our engagement with the EU Responsible T rucking Platform.\\n  – W\\ne recognised the challenge of seafarers \\nstuck on boats because of Covid-19 lockdowns. All our shipping partners are Neptune  Inclusion & diversity\\nDeclaration signatories and we followed up regularly to assess progress, including crew changes and wellbeing.\\n  – In p\\nartnership with the Centre for Child \\nRights and Business , we ran a programme in  \\n8 supplier factories in Mainland China to support migrant workers with children. Forty onsite training sessions were delivered to more than 1,900 parent workers, benefiting approximately 2,900 children, and with a worker satisfaction rate of 90%.\\nProgress: transparency\\n—  We added transparency and  \\ncommunication as a focus area of our I&D strategy, highlighting the importance of  \\nsharing progress and staying accountable  \\nto our colleagues, customers and other stakeholders.\\n—  We are increasing our participation in  \\nindexes and benchmarks to broaden how we \\nshare our I&D performance. We were among 35 apparel companies ranked in the World Benchmarking  Alliance Gender Equality \\nBenchmark  based on publicly available'),\n",
       "  Document(metadata={'source': 'HM-Group-Sustainability-Disclosure-2021.pdf'}, page_content='Garment collecting initiatives : Tonnes of garments collected through garment collecting initiative6 20,649 29,005 18,800 15,944 Annual increase\\n1)   N ew KPI added in 2021.\\n2) \\n  S\\ncope 1 and 2 are direct and indirect emissions of greenhouse gases from H&M \\nGroup’s own operations, e.g. stores, distribution centres and offices.3)  See p age 72 for an assurance statement relating to these data points.  \\nThe limited assurance process included: all scope 1 and 2 emissions; scope 3 emissions from transportation and garment production; fuel consumption in our own operations; electricity intensity in our stores; renewable electricity;  \\nall cotton data (apart from in-conversion cotton); and data for our top three  recycled materials.4) \\n   T his goal read ‘by 2025’ in our 2020 and 2019 sustainability reports. It should \\nhave read ‘by 2030’, as per our annual reports. \\n5) \\n  1\\n00% ZDHC MRSL compliance is proving challenging due to the variety and \\ncomplexity of our supply chain. Due to this, we did not achieve our goal of 100% compliance by 2020 and continue to work towards full MRSL compliance.6)\\n   O ur garment collecting initiative was disrupted by the Covid-19 pandemic for  \\npart of the year in 2020 and for the full year in 2021.\\nP.15  T RANSPARENT REPORTING SINCE 2002\\nHIGHLIGHTS 2021\\nHOW WE LEAD THE CHANGE\\nOUR APPROACH TO SUSTAINABILITY\\nCIRCULAR & CLIMATE POSITIVE\\nFAIR & EQUAL\\nSUPPLY CHAIN MANAGEMENT\\nHOW WE REPORT\\nKPIs: Fair & Equal\\nDetails of specific goals and additional data, including the reasons for changes in performance this year, are included within relevant sections of the Fair & Equal chapter .\\nFair & Equal KPIs\\n2018 2019 2020 2021 GOAL\\nSupply chain : % tier 1 supplier factories with trade union representation1See footnote 2 See footnote 2 32% 37% −\\nSupply chain : % tier 1 supplier factories with collective bargaining agreements1See footnote 2 See footnote 2 18% 27% −\\nSupply chain : % tier 1 supplier factories with digital payment solutions (bank account and/or mobile money) See footnote 2 See footnote 2 82% 91% −\\nSupply chain : % of workers in our tier 1 production supply chain that are female See footnote 2 See footnote 2 63% 63% −\\nSupply chain : % of supervisors in our tier 1 production supply chain that are female See footnote 2 See footnote 2 24% 28% Annual increase\\nSupply chain : % of worker representatives in our tier 1 production supply chain that are female See footnote 2 See footnote 2 59% 62% Annual increase\\nSupply chain : % of suppliers regarding H&M Group as a fair business partner393% 96% 96% 98% −\\nOwn organisation : Overall People Engagement Pulses (PEP) employee engagement score (out of 100) 75 76 75 76 −\\nOwn organisation : % of H&M Group employees agreeing with the statement “Diverse perspectives are valued at H&M Group” 4See footnote 5 See footnote 5 See footnote 5 74% Annual increase')]}"
      ]
     },
     "execution_count": 124,
     "metadata": {},
     "output_type": "execute_result"
    }
   ],
   "source": [
    "ask_question(\"How does Apple perform in the 5th SDG on gender equality?\")"
   ]
  },
  {
   "cell_type": "code",
   "execution_count": 125,
   "id": "22ed6a2f",
   "metadata": {},
   "outputs": [
    {
     "name": "stdout",
     "output_type": "stream",
     "text": [
      "Question: How does Apple perform in the 6th SDG?\n",
      "Answer: Based on the provided information, I would evaluate Apple's performance regarding the 6th Sustainable Development Goal (SDG 6: Clean Water and Sanitation) as follows:\n",
      "\n",
      "**Score: 8/10**\n",
      "\n",
      "**Supporting Evidence:**\n",
      "1. **Water Stewardship**: Apple has implemented a comprehensive water stewardship strategy that addresses water availability, quality, and equity. They emphasize accountability for the water used in their corporate facilities, data centers, distribution centers, and retail stores, as well as at their suppliers' facilities. This is highlighted in the report: \"We focus both on improving water use in our facilities and—through our Clean Water Program—helping our suppliers conserve water and prevent water pollution.\"\n",
      "\n",
      "2. **Engagement with Communities**: Apple is actively engaging with communities where they operate to ensure shared water resources are protected and accessible. This indicates a commitment to not only managing their own water use but also contributing to the broader community's water needs.\n",
      "\n",
      "3. **Holistic Approach**: The report mentions that Apple has evolved its water stewardship strategy into a holistic, enterprise-wide approach, which shows a commitment to addressing water issues comprehensively.\n",
      "\n",
      "4. **Supplier Engagement**: The Zero Waste Program also includes efforts to help suppliers manage their water use, which is crucial for reducing overall water consumption and pollution in the supply chain.\n",
      "\n",
      "**Year of Information**: The information is from the 2019 Environmental Responsibility Report. \n",
      "\n",
      "Overall, while Apple demonstrates significant efforts in water stewardship and community engagement, there is always room for improvement, particularly in ensuring that all suppliers meet high standards for water conservation and pollution prevention.\n"
     ]
    },
    {
     "data": {
      "text/plain": [
       "{'query': 'How does Apple perform in the 6th SDG?',\n",
       " 'result': 'Based on the provided information, I would evaluate Apple\\'s performance regarding the 6th Sustainable Development Goal (SDG 6: Clean Water and Sanitation) as follows:\\n\\n**Score: 8/10**\\n\\n**Supporting Evidence:**\\n1. **Water Stewardship**: Apple has implemented a comprehensive water stewardship strategy that addresses water availability, quality, and equity. They emphasize accountability for the water used in their corporate facilities, data centers, distribution centers, and retail stores, as well as at their suppliers\\' facilities. This is highlighted in the report: \"We focus both on improving water use in our facilities and—through our Clean Water Program—helping our suppliers conserve water and prevent water pollution.\"\\n\\n2. **Engagement with Communities**: Apple is actively engaging with communities where they operate to ensure shared water resources are protected and accessible. This indicates a commitment to not only managing their own water use but also contributing to the broader community\\'s water needs.\\n\\n3. **Holistic Approach**: The report mentions that Apple has evolved its water stewardship strategy into a holistic, enterprise-wide approach, which shows a commitment to addressing water issues comprehensively.\\n\\n4. **Supplier Engagement**: The Zero Waste Program also includes efforts to help suppliers manage their water use, which is crucial for reducing overall water consumption and pollution in the supply chain.\\n\\n**Year of Information**: The information is from the 2019 Environmental Responsibility Report. \\n\\nOverall, while Apple demonstrates significant efforts in water stewardship and community engagement, there is always room for improvement, particularly in ensuring that all suppliers meet high standards for water conservation and pollution prevention.',\n",
       " 'source_documents': [Document(metadata={'source': 'Apple_Environmental_Responsibility_Report_2019.pdf'}, page_content='Facilities Environmental  \\nPerformance Indicators \\nThe following table summarizes environmental performance indicators relating to Apple’s \\nglobal facilities, including our data centers, corporate offices, and over 500 retail stores, \\ntogether occupied by 132,000 Apple employees.1\\nNotes\\n¹ As reported in Apple’s Form 10-K Annual Report filed with the SEC for fiscal year 2018.\\n2  Starting in fiscal year 2016, Scope 1 Emissions capture diesel use in emergency back-up generators and \\npropane gas use in corporate offices. \\n3 Emissions from R&D processes.\\n4  The building operations and cooling emissions (PUE) associated with our colocated data facilities are beyond \\nour operational control and therefore these emissions are not included in our report.\\n5  In fiscal year 2017, we started calculating scope 3 emissions not listed above. In fiscal year 2018, these include \\nelectricity transmission and distribution losses (21,500 metric tons CO 2e) and lifecycle emissions associated \\nwith renewable energy (78,000 metric tons CO 2e).\\n6  We are constantly revisiting our methodology to hold ourselves to high accountability standards. So in fiscal \\nyear 2018, we changed how we calculate emissions from business travel in order to better account for classes \\nof service in air travel. As a result of this change, our scope 3 transportation emissions increased by 77 percent. \\nWithout the methodology change, these emissions would have increased by 14 percent, which reflects the \\ngrowth in our business.7   We adjusted our methodology for fiscal year 2017 to take into account Apple’s “At Home Advisors” program, \\nwhere employees work remotely. \\n8  Because energy efficiency measures have lasting benefits, energy efficiency savings are calculated cumulatively \\nsince 2011. All efficiency measures are retired based on their effective useful lifetime as documented by the \\nClaifornia Energy Commission. \\n9  We calculate our progress toward 100 percent renewable energy on a calendar year basis. Beginning January 1, \\n2018, 100 percent of the electricity we use to power our global facilities is sourced from renewable energy. \\n10  We have adjusted previous years’ avoided emissions to remove double counting biogas emissons.\\n11 Beginning in fiscal year 2017, “Data centers” includes water use at colocation facilities. \\n12  Beginning in fiscal year 2017, “Corporate” includes water use at Apple distribution centers.\\n13  Beginning in fiscal year 2017, we’re including waste from Apple’s distribution centers. Starting fiscal year 2018, \\nelectronic waste is reported under the “Recycled” figure.\\n14 Beginning in fiscal year 2017, waste processed in “Waste to energy” facilities is reported separately.\\n2019 Environmental Responsibility Report   56 Introduction Climate Change Smarter Chemistry Resources Better Together\\nProduct Environmental  \\nPerformance Indicators\\nThe following table summarizes the environmental performance indicators relating to'),\n",
       "  Document(metadata={'source': 'Apple_Environmental_Progress_Report_2023.pdf'}, page_content='Report \\nhighlights\\xa0\\nCarbon neutral for \\ncorporate  emissions\\nSince April 2020, we’ve achieved \\ncarbon neutrality for our \\ncorporate emissions1 by sourcing \\n100 percent  renewable electricity \\nfor Apple facilities, implementing \\nenergy efficiency, and securing \\nhigh-quality carbon offsets for \\nremaining emissions.\\xa0While \\ncorporate emissions\\xa0represent \\nonly a small portion of our overall \\nemissions, this is an important \\nstep toward our broader goal of \\nachieving carbon neutrality for all \\nour products.\\nRead more on page 13 .\\nReduced value chain \\nemissions by over \\n45 percent \\xa0\\nWe reduced our overall emissions \\nacross scopes 1, 2, and 32 by \\nover 45 percent  compared \\nwith our 2015 baseline year. \\nWe avoided\\xa0over 28 million \\nmetric tons of emissions \\nthrough reduction initiatives like \\ntransitioning our supply chain to \\nrenewable electricity and sourcing \\nrecycled content for our products .\\nRead more on page 7 .Called on \\nApple suppliers \\nto decarbonize \\nIn October 2022, we urged \\nour worldwide supply chain \\nto decarbonize their entire \\nApple-related footprint\\xa0by \\n2030, including their scope 1 \\nand 2 emissions associated \\nwith Apple production. We also \\ncommunicated that progress \\ntoward these goals will be \\na crucial part of the criteria \\nwe consider when awarding \\nfuture  business.\\nRead more on  page 19 .\\nIncreased our use of \\nrecycled  materials\\nWe’re making progress toward \\nour goal of transitioning to \\n100 percent  recycled and \\nrenewable materials in our \\nproducts. In 2022, 20 percent  of \\nthe materials we shipped in Apple \\nproducts came from recycled \\nsources, including recycled \\naluminum, rare earth elements, \\ntin, cobalt, gold, tungsten, steel, \\nbrass, copper, and plastic.3\\nRead more on \\xa0page 34 .Introduced our \\ncomprehensive \\nwater  strategy\\nThis year, we’ve evolved our \\nexisting water stewardship \\nstrategy into a holistic, enterprise-\\nwide approach that addresses \\nwater availability, quality, and \\nequity. Our five-pillar approach \\nis grounded in understanding \\nthe local conditions of the \\nwatersheds in which we operate.\\nRead more on page 48 .Reduced\\xa0plastic \\ncontent in  packaging\\nIn 2022, plastics accounted \\nfor only 4 percent  of our \\npackaging\\xa0— down from \\n21 percent  in 2015\\xa0— marking \\nsignificant progress toward our \\ngoal to eliminate plastics from our \\npackaging by 2025.\\nRead more on page 39 .\\nDrove the creation of \\na new standard for \\ngreen  cleaners\\nIn 2022, Apple continued to serve \\nas chair of the Green Cleaners \\nfor Electronics Manufacturing \\ntask group — along with more \\nthan 20 industry partners — and \\nsubmitted the draft version of \\nIPC-1402, Standard for Green \\nCleaners Used in Electronics \\nManufacturing , for public review. \\nThis new standard will help \\nsuppliers across the electronics \\nsupply chain select cleaners \\nthat are safer for employees and \\nthe environment.\\nRead more on page 66 .Received the 2022 \\nImpact Award from \\nthe GC3\\nThe Green Chemistry & \\nCommerce Council awarded \\nApple the 2022 Impact Award for'),\n",
       "  Document(metadata={'source': 'Apple_Environmental_Responsibility_Report_2019.pdf'}, page_content='A zero waste program for our suppliers.\\nIn 2015, we launched a Zero Waste Program for suppliers, which provides them with onsite \\nsupport to recycle and reuse materials. The aim is to divert 100 percent of waste from  \\nlandfills. We provide tools and guidance, including the services of experts in sustainable  \\nwaste management.\\nInitially we prioritized suppliers with the most significant waste impact: final assembly facilities \\nwhere components from all over the world come together to be assembled into Apple \\nproducts. Our goal was to help these facilities drastically reduce the waste they send to landfill. \\nAnd in 2018, we achieved UL ’s Zero Waste to Landfill certification for all final assembly facilities \\nacross iPhone, iPad, Mac, Apple Watch, AirPods, and HomePod.25 This includes the Apple-\\noperated final assembly site in Cork, Ireland, which was the first Apple facility to receive the \\ndesignation from UL. \\nWe’ve since expanded our efforts further upstream in our supply chain to include sub-assembly \\nsuppliers. However, the deeper we go, the more complex the waste streams become. So we are \\nlooking for new technological innovations, exploring up-cycling techniques to reuse by-products, \\nand even reassessing manufacturing processes.\\nIn 2018, we diverted 375,000 metric tons of waste from landfills. And to date, we’ve engaged \\n90 suppliers and diverted more than 1 million metric tons of waste—enough to cover more than \\n4,000 soccer fields a meter deep.\\nWater Stewardship\\nProtecting Earth’s most  \\nprecious resource.\\nWater supports all life on Earth. And while water itself is plentiful, only a small fraction is \\navailable to those who need it. The scarcity of freshwater continues to increase, a trend \\nexacerbated by climate change. So we hold ourselves accountable for the water we use, \\nwhether at our corporate offices, data centers, distribution centers, and retail stores, or at our \\nsuppliers’ facilities around the globe.\\nHow we’re tackling our water footprint.\\nWater is necessary to operate our corporate facilities, including for cooling at our data centers. \\nAt our manufacturing facilities, suppliers use water for processes like etching, cutting, cleaning, \\nand cooling. So we work to conserve it and be smarter about the water we do use. We focus \\nboth on improving water use in our facilities and—through our Clean Water Program—helping \\nour suppliers conserve water and prevent water pollution. And we are engaging communities \\nwhere we operate and manufacture products to make sure shared water resources are \\nprotected and accessible. We’re proud of the progress we’ve made, but we know there’s still \\nwork to do.1 million metric tons\\nThrough our supplier Zero Waste \\nProgram, we’ve diverted enough \\nwaste to cover more than 4,000 \\nsoccer fields 1 meter deep.\\n2019 Environmental Responsibility Report   37 Introduction Climate Change Smarter Chemistry Resources Better Together'),\n",
       "  Document(metadata={'source': 'Apple_Environmental_Responsibility_Report_2019.pdf'}, page_content='2019 Environmental Responsibility Report   56 Introduction Climate Change Smarter Chemistry Resources Better Together\\nProduct Environmental  \\nPerformance Indicators\\nThe following table summarizes the environmental performance indicators relating to \\nApple’s products—including the life cycle greenhouse gas emissions associated with the \\nmanufacturing, transportation, use, and end of life of our products. In fiscal year 2018, we sold \\n217 ,722,000 iPhone devices, 43,535,000 iPad units, and 18,209,000 Mac products.1\\nWe also publish individual product environmental reports for all of our products. These are \\navailable at www.apple.com/environment .\\nFiscal Year 2018 2017 2016 2015\\nScope 3 - Life cycle greenhouse gas emissions  \\n(metric tons CO₂e)2,324,600,000 27,100,000 29,200,000 38,000,000\\nManufacturing 18,500,000 21,100,000 22,800,000 29,600,000\\nProduct transportation 1,300,000 1,200,000 1,200,000 1,300,000\\nProduct use 4,700,000 4,700,000 4,900,000 6,600,000\\nEnd of life450,000 100,000 300,000 500,000\\nPackaging fiber footprint (metric tons) 168,000 145,000 129,000 133,000\\nRecycled fiber 64% 65% 62% 60%\\nResponsibly sourced virgin fiber 36% 35% 38% 40%\\nOther virgin fiber — — <1% <1%\\nPackaging plastics footprint 19,000 24,000 34,000 36,000\\nSafer materials\\nArsenic5Removed from glass by 2008\\nPVC6PVC-free AC power cord available in all regions except India, Thailand, and South Korea\\nBeryllium Eliminated from all new product designs. Beryllium is found in copper alloys used to make connectors and\\xa0springs\\nMercury Eliminated in display 2009\\nLead7Phased out of display glass and solder in 2006\\nBrominated flame retardants (BFRs)8Eliminated from thousands of parts since 2008\\n¹ As reported in Apple’s Form 10-K Annual Report filed with the SEC for FY2017.\\n²   We have been calculating the life cycle greenhouse gas emissions of our products since 2006. Over time, we have greatly refined our model to include more Apple-specific data instead of industry averages. The decrease in Scope \\n3 emissions in fiscal year 2016 is partly due to these modeling changes, including improved modeling of the integrated circuits in Apple products. Further, there are systematic changes made in some emissions factors to reflect \\nchanges in global electricity grids.\\n³ Scope 3 emissions associated with employee commute and business travel are included in the table “Facilities Environmental Performance Indicators.”\\n⁴ Carbon emissions associated with our products’ end of life decreased in fiscal year 2017, because of changes in methodology to more accurately reflect disposal and recycling practices.\\n⁵ Arsenic is present in minute quantities in some semiconductor devices.\\n⁶   Every Apple product is free of PVC and phthalates with the exception of power cords in India, Thailand, and South Korea, where we continue to seek government approval for our PVC and phthalates\\xa0replacement.')]}"
      ]
     },
     "execution_count": 125,
     "metadata": {},
     "output_type": "execute_result"
    }
   ],
   "source": [
    "ask_question(\"How does Apple perform in the 6th SDG?\")"
   ]
  },
  {
   "cell_type": "code",
   "execution_count": 126,
   "id": "2dcab998",
   "metadata": {},
   "outputs": [
    {
     "name": "stdout",
     "output_type": "stream",
     "text": [
      "Question: How does Apple perform in the 7th SDG?\n",
      "Answer: I don't know.\n"
     ]
    },
    {
     "data": {
      "text/plain": [
       "{'query': 'How does Apple perform in the 7th SDG?',\n",
       " 'result': \"I don't know.\",\n",
       " 'source_documents': [Document(metadata={'source': 'Apple_Environmental_Progress_Report_2023.pdf'}, page_content='Report \\nhighlights\\xa0\\nCarbon neutral for \\ncorporate  emissions\\nSince April 2020, we’ve achieved \\ncarbon neutrality for our \\ncorporate emissions1 by sourcing \\n100 percent  renewable electricity \\nfor Apple facilities, implementing \\nenergy efficiency, and securing \\nhigh-quality carbon offsets for \\nremaining emissions.\\xa0While \\ncorporate emissions\\xa0represent \\nonly a small portion of our overall \\nemissions, this is an important \\nstep toward our broader goal of \\nachieving carbon neutrality for all \\nour products.\\nRead more on page 13 .\\nReduced value chain \\nemissions by over \\n45 percent \\xa0\\nWe reduced our overall emissions \\nacross scopes 1, 2, and 32 by \\nover 45 percent  compared \\nwith our 2015 baseline year. \\nWe avoided\\xa0over 28 million \\nmetric tons of emissions \\nthrough reduction initiatives like \\ntransitioning our supply chain to \\nrenewable electricity and sourcing \\nrecycled content for our products .\\nRead more on page 7 .Called on \\nApple suppliers \\nto decarbonize \\nIn October 2022, we urged \\nour worldwide supply chain \\nto decarbonize their entire \\nApple-related footprint\\xa0by \\n2030, including their scope 1 \\nand 2 emissions associated \\nwith Apple production. We also \\ncommunicated that progress \\ntoward these goals will be \\na crucial part of the criteria \\nwe consider when awarding \\nfuture  business.\\nRead more on  page 19 .\\nIncreased our use of \\nrecycled  materials\\nWe’re making progress toward \\nour goal of transitioning to \\n100 percent  recycled and \\nrenewable materials in our \\nproducts. In 2022, 20 percent  of \\nthe materials we shipped in Apple \\nproducts came from recycled \\nsources, including recycled \\naluminum, rare earth elements, \\ntin, cobalt, gold, tungsten, steel, \\nbrass, copper, and plastic.3\\nRead more on \\xa0page 34 .Introduced our \\ncomprehensive \\nwater  strategy\\nThis year, we’ve evolved our \\nexisting water stewardship \\nstrategy into a holistic, enterprise-\\nwide approach that addresses \\nwater availability, quality, and \\nequity. Our five-pillar approach \\nis grounded in understanding \\nthe local conditions of the \\nwatersheds in which we operate.\\nRead more on page 48 .Reduced\\xa0plastic \\ncontent in  packaging\\nIn 2022, plastics accounted \\nfor only 4 percent  of our \\npackaging\\xa0— down from \\n21 percent  in 2015\\xa0— marking \\nsignificant progress toward our \\ngoal to eliminate plastics from our \\npackaging by 2025.\\nRead more on page 39 .\\nDrove the creation of \\na new standard for \\ngreen  cleaners\\nIn 2022, Apple continued to serve \\nas chair of the Green Cleaners \\nfor Electronics Manufacturing \\ntask group — along with more \\nthan 20 industry partners — and \\nsubmitted the draft version of \\nIPC-1402, Standard for Green \\nCleaners Used in Electronics \\nManufacturing , for public review. \\nThis new standard will help \\nsuppliers across the electronics \\nsupply chain select cleaners \\nthat are safer for employees and \\nthe environment.\\nRead more on page 66 .Received the 2022 \\nImpact Award from \\nthe GC3\\nThe Green Chemistry & \\nCommerce Council awarded \\nApple the 2022 Impact Award for'),\n",
       "  Document(metadata={'source': 'Apple_Environmental_Responsibility_Report_2019.pdf'}, page_content='Facilities Environmental  \\nPerformance Indicators \\nThe following table summarizes environmental performance indicators relating to Apple’s \\nglobal facilities, including our data centers, corporate offices, and over 500 retail stores, \\ntogether occupied by 132,000 Apple employees.1\\nNotes\\n¹ As reported in Apple’s Form 10-K Annual Report filed with the SEC for fiscal year 2018.\\n2  Starting in fiscal year 2016, Scope 1 Emissions capture diesel use in emergency back-up generators and \\npropane gas use in corporate offices. \\n3 Emissions from R&D processes.\\n4  The building operations and cooling emissions (PUE) associated with our colocated data facilities are beyond \\nour operational control and therefore these emissions are not included in our report.\\n5  In fiscal year 2017, we started calculating scope 3 emissions not listed above. In fiscal year 2018, these include \\nelectricity transmission and distribution losses (21,500 metric tons CO 2e) and lifecycle emissions associated \\nwith renewable energy (78,000 metric tons CO 2e).\\n6  We are constantly revisiting our methodology to hold ourselves to high accountability standards. So in fiscal \\nyear 2018, we changed how we calculate emissions from business travel in order to better account for classes \\nof service in air travel. As a result of this change, our scope 3 transportation emissions increased by 77 percent. \\nWithout the methodology change, these emissions would have increased by 14 percent, which reflects the \\ngrowth in our business.7   We adjusted our methodology for fiscal year 2017 to take into account Apple’s “At Home Advisors” program, \\nwhere employees work remotely. \\n8  Because energy efficiency measures have lasting benefits, energy efficiency savings are calculated cumulatively \\nsince 2011. All efficiency measures are retired based on their effective useful lifetime as documented by the \\nClaifornia Energy Commission. \\n9  We calculate our progress toward 100 percent renewable energy on a calendar year basis. Beginning January 1, \\n2018, 100 percent of the electricity we use to power our global facilities is sourced from renewable energy. \\n10  We have adjusted previous years’ avoided emissions to remove double counting biogas emissons.\\n11 Beginning in fiscal year 2017, “Data centers” includes water use at colocation facilities. \\n12  Beginning in fiscal year 2017, “Corporate” includes water use at Apple distribution centers.\\n13  Beginning in fiscal year 2017, we’re including waste from Apple’s distribution centers. Starting fiscal year 2018, \\nelectronic waste is reported under the “Recycled” figure.\\n14 Beginning in fiscal year 2017, waste processed in “Waste to energy” facilities is reported separately.\\n2019 Environmental Responsibility Report   56 Introduction Climate Change Smarter Chemistry Resources Better Together\\nProduct Environmental  \\nPerformance Indicators\\nThe following table summarizes the environmental performance indicators relating to'),\n",
       "  Document(metadata={'source': 'Apple_Environmental_Responsibility_Report_2019.pdf'}, page_content='A zero waste program for our suppliers.\\nIn 2015, we launched a Zero Waste Program for suppliers, which provides them with onsite \\nsupport to recycle and reuse materials. The aim is to divert 100 percent of waste from  \\nlandfills. We provide tools and guidance, including the services of experts in sustainable  \\nwaste management.\\nInitially we prioritized suppliers with the most significant waste impact: final assembly facilities \\nwhere components from all over the world come together to be assembled into Apple \\nproducts. Our goal was to help these facilities drastically reduce the waste they send to landfill. \\nAnd in 2018, we achieved UL ’s Zero Waste to Landfill certification for all final assembly facilities \\nacross iPhone, iPad, Mac, Apple Watch, AirPods, and HomePod.25 This includes the Apple-\\noperated final assembly site in Cork, Ireland, which was the first Apple facility to receive the \\ndesignation from UL. \\nWe’ve since expanded our efforts further upstream in our supply chain to include sub-assembly \\nsuppliers. However, the deeper we go, the more complex the waste streams become. So we are \\nlooking for new technological innovations, exploring up-cycling techniques to reuse by-products, \\nand even reassessing manufacturing processes.\\nIn 2018, we diverted 375,000 metric tons of waste from landfills. And to date, we’ve engaged \\n90 suppliers and diverted more than 1 million metric tons of waste—enough to cover more than \\n4,000 soccer fields a meter deep.\\nWater Stewardship\\nProtecting Earth’s most  \\nprecious resource.\\nWater supports all life on Earth. And while water itself is plentiful, only a small fraction is \\navailable to those who need it. The scarcity of freshwater continues to increase, a trend \\nexacerbated by climate change. So we hold ourselves accountable for the water we use, \\nwhether at our corporate offices, data centers, distribution centers, and retail stores, or at our \\nsuppliers’ facilities around the globe.\\nHow we’re tackling our water footprint.\\nWater is necessary to operate our corporate facilities, including for cooling at our data centers. \\nAt our manufacturing facilities, suppliers use water for processes like etching, cutting, cleaning, \\nand cooling. So we work to conserve it and be smarter about the water we do use. We focus \\nboth on improving water use in our facilities and—through our Clean Water Program—helping \\nour suppliers conserve water and prevent water pollution. And we are engaging communities \\nwhere we operate and manufacture products to make sure shared water resources are \\nprotected and accessible. We’re proud of the progress we’ve made, but we know there’s still \\nwork to do.1 million metric tons\\nThrough our supplier Zero Waste \\nProgram, we’ve diverted enough \\nwaste to cover more than 4,000 \\nsoccer fields 1 meter deep.\\n2019 Environmental Responsibility Report   37 Introduction Climate Change Smarter Chemistry Resources Better Together'),\n",
       "  Document(metadata={'source': 'Apple_Environmental_Progress_Report_2021.pdf'}, page_content='For all product LCA calculations, where exact data was missing , the principle of a worst -\\ncase approach has been followed and results have been calculated with rather conservative \\nestimates.    \\nThe review has not found assumptio ns or calculation errors on the carbon footprint  data \\nlevel that indicate the scope 3 carbon footprint has been materially misstated.  The excellent \\nanalysis meets the principles of good scientific practice .    \\nBerlin, April 1, 2021 \\n    \\n- Karsten Schischke -  - Marina Proske  - \\nFraunhofer IZM   Fraunhof er IZM  \\nDept. Environmental and Dept. Environmental and  \\nReliability Engineering   Reliability Engineering  \\nEnvironmental Progress Report  99\\n Introduction        Climate Change        Resources        Smarter Chemistry        Appendix\\nMission statement\\nApple Inc. is committed to protecting the environment, health, and safety of our employees, customers, and the global communities \\nwhere we operate.\\nWe recognize that by integrating sound environmental, health, and safety management practices into all aspects of our business, \\nwe\\xa0can offer technologically innovative products and services while conserving and enhancing resources for future generations.\\nApple strives for continuous improvement in our environmental, health, and safety management systems and in the environmental \\nquality of our products, processes, and services.\\nGuiding principles\\nMeet or exceed all applicable environmental, health, and safety requirements. We will  \\nevaluate our EHS performance by monitoring ongoing performance results and through periodic management reviews.\\nWhere laws and regulations do not provide adequate controls, we will adopt our own standards to protect human health and \\nthe environment.\\nSupport and promote sound scientific principles and fiscally responsible public policy that enhance environmental quality, health \\nand safety.\\nAdvocate the adoption of prudent environmental, health, and safety principles and practices by our contractors, vendors, and suppliers.\\nCommunicate environmental, health, and safety policies and programs to Apple employees and stakeholders.\\nDesign, manage, and operate our facilities to maximize safety, promote energy and water efficiency, and protect the environment.\\nStrive to create products that are safe in their intended use, conserve energy and resources, and prevent pollution throughout the \\nproduct life cycle including design, manufacture, use, and end-of -life management.\\nEnsure that all employees are aware of their role and responsibility to fulfill and sustain Apple’s environmental, health, and safety \\nmanagement systems and policy.\\nLuca Maestri,  \\nSenior Vice President and CFO  \\nJanuary 2020 Environmental health and \\nsafety policy statementAppendix EEnvironmental Progress Report  100\\n Introduction        Climate Change        Resources        Smarter Chemistry        Appendix\\nISO 14001 certificationAppendix F\\nApple operates manufacturing facilities in Cork, Ireland.')]}"
      ]
     },
     "execution_count": 126,
     "metadata": {},
     "output_type": "execute_result"
    }
   ],
   "source": [
    "ask_question(\"How does Apple perform in the 7th SDG?\")"
   ]
  },
  {
   "cell_type": "code",
   "execution_count": 128,
   "id": "20200831",
   "metadata": {},
   "outputs": [
    {
     "data": {
      "text/plain": [
       "Document(metadata={'source': 'fy2023-walmart-esg-highlights.pdf'}, page_content='Environmental,  \\nSocial, and  \\nGovernance  \\nHighlights\\nFY2023\\n\\nFY2023  \\nESG Highlights\\nContents\\nESG REPORTING SOURCES\\nESG Issue Briefs\\nESG Reporting DataINTRODUCTION\\n4 Leadership Letters\\n6 Awards & Recognition\\n7 Our Company\\n8 Our Approach to ESG\\nOPPORTUNITY\\n11 Opportunity Highlights\\n12  Human Capital: Good Jobs  \\n& Advancement for Associates\\n13 Human Capital Spotlight\\n14 Equity & Inclusion at Walmart & Beyond\\n15 Supplier Opportunity SUSTAINABILITY\\n17 Sustainability Highlights\\n18 Product Supply Chain Sustainability\\n19 Climate Change\\n20 Climate Change Spotlight\\n21  Regeneration of Natural Resources:  \\nForests, Land, Oceans\\n22 Waste: Circular Economy\\n23 People in Supply Chains\\nCOMMUNITY\\n25 Community Highlights\\n26 Serving Communities\\n27 Safer, Healthier Food & Other Products\\n28 Disaster Preparedness & Response\\n29  Disaster Preparedness & Response  \\nSpotlightETHICS & INTEGRITY\\n31 Ethics & Integrity Highlights\\n32 Ethics & Compliance\\n33 Corporate Governance\\n34 Engagement in Public Policy \\n35  Digital Citizenship: Ethical Use of  \\nData & Responsible Use of Technology \\n36 Digital Citizenship Spotlight\\n37 Human Rights \\nAPPENDIX\\n39 About Our Reporting\\n40 Forward-Looking Statements\\n41 Endnotes\\nIntroduction\\nFY2023  \\nESG Highlights')"
      ]
     },
     "execution_count": 128,
     "metadata": {},
     "output_type": "execute_result"
    }
   ],
   "source": [
    "texts[0]"
   ]
  },
  {
   "cell_type": "code",
   "execution_count": 143,
   "id": "372162a0",
   "metadata": {},
   "outputs": [],
   "source": [
    "context = docs_pages[\"fy2023-walmart-esg-highlights.pdf\"][8]"
   ]
  },
  {
   "cell_type": "code",
   "execution_count": 144,
   "id": "2f44580a",
   "metadata": {},
   "outputs": [
    {
     "data": {
      "text/plain": [
       "'We prioritize the ESG issues that offer the greatest potential for Walmart \\nto create shared value; these are issues that rank high in relevance to our \\nbusiness and stakeholders as well as Walmart’s ability to make a difference.\\nFor each priority ESG issue, our disclosures aim to:\\n• Articulate the relevance of the issue for societyand Walmart’s business\\n• Reflect an understanding of stakeholder expectations\\n• Share our aspirations, goals, and strategies to create shared value \\n• Describe our progress, opportunities, and challenges \\nRead more : Our ESG Priorities\\nStakeholder Engagement\\nOur ability to create shared value depends \\non direct and frequent engagement with \\nour customers, associates, and community \\nleaders, as well as the people who \\nsupply our products, hold our stock, and \\nevaluate our performance. Stakeholder \\nperspectives and feedback help improve \\nthe relevance and effectiveness of the \\nproducts and services we offer and the \\ninitiatives we support. \\nDay to day, we engage with customers, \\nfellow associates, suppliers, members of \\nthe communities where we operate, and \\nshareholders. \\nAdditionally, our 2021 ESG priority \\nassessment included extensive outreach \\nto stakeholders, including customers, \\nassociates, shareholders, suppliers, and \\nNGOs, to understand their perspectives \\non which issues Walmart should prioritize. \\nRead more:  Stakeholder Engagement\\nOpportunity  \\n• Good jobs and advancement for associates \\n• Equity and inclusion at Walmart and beyond \\n• Growth for suppliers, sellers, and local economies \\n  \\nSustainability  \\n• Climate and renewable energy leadership \\n• Zero waste in operations, products, and packaging \\n• Regeneration of natural resources: forests, land, and oceans \\n \\nCommunity  \\n• Serving communities\\n• Access to safer, healthier food, products, and services\\n• Disaster preparedness and response\\n \\nEthics & Integrity \\n• Highest ethical and compliance standards\\n• Strong corporate governance\\n• Engagement in public policy\\n• Digital citizenship \\n• Respect for human rightsOur ESG PrioritiesOUR APPROACH TO ESGFY2023  \\nESG Highlights 9 Opportunity Sustainability Community Ethics & Integrity\\n Introduction'"
      ]
     },
     "execution_count": 144,
     "metadata": {},
     "output_type": "execute_result"
    }
   ],
   "source": [
    "context"
   ]
  },
  {
   "cell_type": "code",
   "execution_count": null,
   "id": "1b833940",
   "metadata": {},
   "outputs": [],
   "source": [
    "# Load the LLM\n",
    "llm = ChatOpenAI(model_name=MODEL, temperature=0, api_key=os.environ[\"OPEN_API_KEY\"])  # for deterministic outputs\n",
    "\n",
    "system_prompt = \"\"\"\n",
    "You are an expert assistant evaluating ESG reports of major companies based on the SDGs. \n",
    "Your job is to evaluate the companies achievements regarding the SDG goal given and the company name and given year. \n",
    "If the company does not mention anything say \"I don't know\". \n",
    "Otherwise give it a score of 1-10 and support your claim with snippets of the report where the evidence of suporting the goal is seen.\n",
    "Also say the year this information is from.\n",
    "Context: {context}\n",
    "Question: {question}\n",
    "\"\"\"\n",
    "\n",
    "prompt_template = PromptTemplate(\n",
    "    input_variables=[\"context\", \"question\"], \n",
    "    template=system_prompt\n",
    ")"
   ]
  },
  {
   "cell_type": "code",
   "execution_count": 168,
   "id": "66174e06",
   "metadata": {},
   "outputs": [],
   "source": [
    "prompt = \"\"\"You are an expert assistant for extracting information from company ESG reports. \n",
    "Your task is to assign the page content into these categories:\n",
    "FACTUAL - the page presented to you contains hard facts with evidence supporting what the company is doing in terms of ESG, for example \"we reduced our carbon footprint by 20%\", this categery has to be only of fatcs that are quantifiable and measurable\n",
    "MISSION - it describes vaguely the company's aim and standards, for example \"our aim is to\"\n",
    "VALUES - contains what the company believes in, for example \"we believe in\"\n",
    "Use only the data in the page.\n",
    "Give a ratio of the page FACTUAL:MISSION:VALUES content.\n",
    "Company name: {company}\n",
    "Page from report: {page}\"\"\""
   ]
  },
  {
   "cell_type": "code",
   "execution_count": 169,
   "id": "13e2b5e8",
   "metadata": {},
   "outputs": [
    {
     "data": {
      "text/plain": [
       "'You are an expert assistant for extracting information from company ESG reports. \\nYour task is to assign the page content into these categories:\\nFACTUAL - the page presented to you contains hard facts with evidence supporting what the company is doing in terms of ESG, for example \"we reduced our carbon footprint by 20%\", this categery has to be only of fatcs that are quantifiable and measurable\\nMISSION - it describes vaguely the company\\'s aim and standards, for example \"our aim is to\"\\nVALUES - contains what the company believes in, for example \"we believe in\"\\nUse only the data in the page.\\nGive a ratio of the page FACTUAL:MISSION:VALUES content.\\nCompany name: Walmart\\nPage from report: We prioritize the ESG issues that offer the greatest potential for Walmart \\nto create shared value; these are issues that rank high in relevance to our \\nbusiness and stakeholders as well as Walmart’s ability to make a difference.\\nFor each priority ESG issue, our disclosures aim to:\\n• Articulate the relevance of the issue for societyand Walmart’s business\\n• Reflect an understanding of stakeholder expectations\\n• Share our aspirations, goals, and strategies to create shared value \\n• Describe our progress, opportunities, and challenges \\nRead more : Our ESG Priorities\\nStakeholder Engagement\\nOur ability to create shared value depends \\non direct and frequent engagement with \\nour customers, associates, and community \\nleaders, as well as the people who \\nsupply our products, hold our stock, and \\nevaluate our performance. Stakeholder \\nperspectives and feedback help improve \\nthe relevance and effectiveness of the \\nproducts and services we offer and the \\ninitiatives we support. \\nDay to day, we engage with customers, \\nfellow associates, suppliers, members of \\nthe communities where we operate, and \\nshareholders. \\nAdditionally, our 2021 ESG priority \\nassessment included extensive outreach \\nto stakeholders, including customers, \\nassociates, shareholders, suppliers, and \\nNGOs, to understand their perspectives \\non which issues Walmart should prioritize. \\nRead more:  Stakeholder Engagement\\nOpportunity  \\n• Good jobs and advancement for associates \\n• Equity and inclusion at Walmart and beyond \\n• Growth for suppliers, sellers, and local economies \\n  \\nSustainability  \\n• Climate and renewable energy leadership \\n• Zero waste in operations, products, and packaging \\n• Regeneration of natural resources: forests, land, and oceans \\n \\nCommunity  \\n• Serving communities\\n• Access to safer, healthier food, products, and services\\n• Disaster preparedness and response\\n \\nEthics & Integrity \\n• Highest ethical and compliance standards\\n• Strong corporate governance\\n• Engagement in public policy\\n• Digital citizenship \\n• Respect for human rightsOur ESG PrioritiesOUR APPROACH TO ESGFY2023  \\nESG Highlights 9 Opportunity Sustainability Community Ethics & Integrity\\n Introduction'"
      ]
     },
     "execution_count": 169,
     "metadata": {},
     "output_type": "execute_result"
    }
   ],
   "source": [
    "prompt.format(company=\"Walmart\", page=context)"
   ]
  },
  {
   "cell_type": "code",
   "execution_count": 170,
   "id": "e7dd9f77",
   "metadata": {},
   "outputs": [
    {
     "name": "stdout",
     "output_type": "stream",
     "text": [
      "We prioritize the ESG issues that offer the greatest potential for Walmart \n",
      "to create shared value; these are issues that rank high in relevance to our \n",
      "business and stakeholders as well as Walmart’s ability to make a difference.\n",
      "For each priority ESG issue, our disclosures aim to:\n",
      "• Articulate the relevance of the issue for societyand Walmart’s business\n",
      "• Reflect an understanding of stakeholder expectations\n",
      "• Share our aspirations, goals, and strategies to create shared value \n",
      "• Describe our progress, opportunities, and challenges \n",
      "Read more : Our ESG Priorities\n",
      "Stakeholder Engagement\n",
      "Our ability to create shared value depends \n",
      "on direct and frequent engagement with \n",
      "our customers, associates, and community \n",
      "leaders, as well as the people who \n",
      "supply our products, hold our stock, and \n",
      "evaluate our performance. Stakeholder \n",
      "perspectives and feedback help improve \n",
      "the relevance and effectiveness of the \n",
      "products and services we offer and the \n",
      "initiatives we support. \n",
      "Day to day, we engage with customers, \n",
      "fellow associates, suppliers, members of \n",
      "the communities where we operate, and \n",
      "shareholders. \n",
      "Additionally, our 2021 ESG priority \n",
      "assessment included extensive outreach \n",
      "to stakeholders, including customers, \n",
      "associates, shareholders, suppliers, and \n",
      "NGOs, to understand their perspectives \n",
      "on which issues Walmart should prioritize. \n",
      "Read more:  Stakeholder Engagement\n",
      "Opportunity  \n",
      "• Good jobs and advancement for associates \n",
      "• Equity and inclusion at Walmart and beyond \n",
      "• Growth for suppliers, sellers, and local economies \n",
      "  \n",
      "Sustainability  \n",
      "• Climate and renewable energy leadership \n",
      "• Zero waste in operations, products, and packaging \n",
      "• Regeneration of natural resources: forests, land, and oceans \n",
      " \n",
      "Community  \n",
      "• Serving communities\n",
      "• Access to safer, healthier food, products, and services\n",
      "• Disaster preparedness and response\n",
      " \n",
      "Ethics & Integrity \n",
      "• Highest ethical and compliance standards\n",
      "• Strong corporate governance\n",
      "• Engagement in public policy\n",
      "• Digital citizenship \n",
      "• Respect for human rightsOur ESG PrioritiesOUR APPROACH TO ESGFY2023  \n",
      "ESG Highlights 9 Opportunity Sustainability Community Ethics & Integrity\n",
      " Introduction\n"
     ]
    }
   ],
   "source": [
    "print(context)"
   ]
  },
  {
   "cell_type": "code",
   "execution_count": 177,
   "id": "4e222397",
   "metadata": {},
   "outputs": [],
   "source": [
    "def invoke_llm(company, page):\n",
    "    answer = llm.invoke(prompt.format(company=company, page=page))\n",
    "    return answer"
   ]
  },
  {
   "cell_type": "code",
   "execution_count": 178,
   "id": "b945e173",
   "metadata": {},
   "outputs": [],
   "source": [
    "answer = invoke_llm(\"Walmart\", context)"
   ]
  },
  {
   "cell_type": "code",
   "execution_count": 179,
   "id": "a12097e8",
   "metadata": {},
   "outputs": [
    {
     "name": "stdout",
     "output_type": "stream",
     "text": [
      "Based on the content provided from Walmart's ESG report, the categorization is as follows:\n",
      "\n",
      "- **FACTUAL**: The page does not provide specific quantifiable data or measurable outcomes related to Walmart's ESG initiatives. It discusses priorities and approaches but lacks hard facts or evidence supporting specific achievements or metrics.\n",
      "\n",
      "- **MISSION**: The content includes statements about Walmart's aims and strategies, such as creating shared value, engaging with stakeholders, and prioritizing ESG issues. Phrases like \"our disclosures aim to\" and \"our ability to create shared value depends on\" reflect the company's mission and objectives.\n",
      "\n",
      "- **VALUES**: The page contains elements that reflect Walmart's beliefs and principles, such as the importance of stakeholder engagement, equity and inclusion, and ethical standards. Statements like \"we believe in\" are implied through the values presented in the opportunity, sustainability, community, and ethics sections.\n",
      "\n",
      "**Ratio of content**: \n",
      "- FACTUAL: 0\n",
      "- MISSION: 5\n",
      "- VALUES: 5\n",
      "\n",
      "**Overall Ratio**: 0:5:5\n"
     ]
    }
   ],
   "source": [
    "print(answer.content)"
   ]
  },
  {
   "cell_type": "code",
   "execution_count": 180,
   "id": "be8a7f3e",
   "metadata": {},
   "outputs": [
    {
     "data": {
      "text/plain": [
       "'Opportunity Highlights\\n$21.75\\nU.S. associate \\naverage total hourly \\ncompensation1>180,000>34,000\\nASSOCIATES\\nenrolled in  Live Better U\\n>$13 cumulative total \\npurchases supporting \\nAmerican jobs  \\n(2021 through FY2023)BILLION\\nBILLION\\n28%\\nof U.S. officers are \\npeople of color68%\\nfull-time U.S. \\nhourly associates2 $47\\nU.S. ASSOCIATES3 \\nreceived promotions;  \\n88% of roles4 above  \\nentry level filled internally sourced from  ~2,400 \\ndiverse suppliers5 \\n to U.S. businessesFY2023  \\nESG Highlights 11 Introduction Sustainability Community Ethics & Integrity\\n Opportunity\\n37%\\nof U.S. officers \\nare women'"
      ]
     },
     "execution_count": 180,
     "metadata": {},
     "output_type": "execute_result"
    }
   ],
   "source": [
    "docs_pages[\"fy2023-walmart-esg-highlights.pdf\"][10]"
   ]
  },
  {
   "cell_type": "code",
   "execution_count": 181,
   "id": "e2e8171d",
   "metadata": {},
   "outputs": [],
   "source": [
    "answer = invoke_llm(\"Walmart\", docs_pages[\"fy2023-walmart-esg-highlights.pdf\"][10])"
   ]
  },
  {
   "cell_type": "code",
   "execution_count": 182,
   "id": "982ea3c9",
   "metadata": {},
   "outputs": [
    {
     "name": "stdout",
     "output_type": "stream",
     "text": [
      "Based on the content provided from the Walmart ESG report page titled \"Opportunity Highlights,\" the categorization is as follows:\n",
      "\n",
      "**FACTUAL:**\n",
      "- $21.75 U.S. associate average total hourly compensation\n",
      "- >180,000 U.S. associates enrolled in Live Better U\n",
      "- >$13 billion cumulative total purchases supporting American jobs (2021 through FY2023)\n",
      "- 28% of U.S. officers are people of color\n",
      "- 68% of full-time U.S. hourly associates received promotions\n",
      "- 88% of roles above entry level filled internally\n",
      "- ~2,400 diverse suppliers to U.S. businesses\n",
      "- 37% of U.S. officers are women\n",
      "\n",
      "**MISSION:**\n",
      "- None present in the provided content.\n",
      "\n",
      "**VALUES:**\n",
      "- None present in the provided content.\n",
      "\n",
      "**Ratio of content:**\n",
      "FACTUAL:MISSION:VALUES = 10:0:0\n"
     ]
    }
   ],
   "source": [
    "print(answer.content)"
   ]
  },
  {
   "cell_type": "code",
   "execution_count": null,
   "id": "54e77536",
   "metadata": {},
   "outputs": [],
   "source": []
  }
 ],
 "metadata": {
  "kernelspec": {
   "display_name": "hack",
   "language": "python",
   "name": "python3"
  },
  "language_info": {
   "codemirror_mode": {
    "name": "ipython",
    "version": 3
   },
   "file_extension": ".py",
   "mimetype": "text/x-python",
   "name": "python",
   "nbconvert_exporter": "python",
   "pygments_lexer": "ipython3",
   "version": "3.10.15"
  }
 },
 "nbformat": 4,
 "nbformat_minor": 5
}
